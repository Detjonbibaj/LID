{
  "cells": [
    {
      "cell_type": "code",
      "execution_count": 6,
      "metadata": {
        "id": "dN9DPlPfIsvj"
      },
      "outputs": [
        {
          "name": "stdout",
          "output_type": "stream",
          "text": [
            "Using file path: /Users/lucaschambeck/Library/CloudStorage/OneDrive-ZHAW/Studium/Semester 4/PM4/PM4_Lyrics/data/song_lyrics.csv\n",
            "File exists: True\n",
            "               title  tag     artist  year   views  \\\n",
            "0          Killa Cam  rap    Cam'ron  2004  173166   \n",
            "1         Can I Live  rap      JAY-Z  1996  468624   \n",
            "2  Forgive Me Father  rap   Fabolous  2003    4743   \n",
            "3       Down and Out  rap    Cam'ron  2004  144404   \n",
            "4             Fly In  rap  Lil Wayne  2005   78271   \n",
            "5     Lollipop Remix  rap  Lil Wayne  2008  580832   \n",
            "6         Im Not You  rap     Clipse  2002   28645   \n",
            "7        Family Ties  rap    Cam'ron  2004   41960   \n",
            "8  Rockin and Rollin  rap    Cam'ron  1998    6399   \n",
            "9      Lord You Know  rap    Cam'ron  2004   11882   \n",
            "\n",
            "                                       features  \\\n",
            "0                   {\"Cam\\\\'ron\",\"Opera Steve\"}   \n",
            "1                                            {}   \n",
            "2                                            {}   \n",
            "3  {\"Cam\\\\'ron\",\"Kanye West\",\"Syleena Johnson\"}   \n",
            "4                                            {}   \n",
            "5                 {\"Kanye West\",\"Static Major\"}   \n",
            "6   {Jadakiss,\"Styles P\",\"Roscoe P. Coldchain\"}   \n",
            "7                     {\"Cam\\\\'ron\",\"Lady Wray\"}   \n",
            "8                                 {\"Cam\\\\'ron\"}   \n",
            "9          {\"Cam\\\\'ron\",\"Juelz Santana\",Jaheim}   \n",
            "\n",
            "                                              lyrics  id language_cld3  \\\n",
            "0  [Chorus: Opera Steve & Cam'ron]\\nKilla Cam, Ki...   1            en   \n",
            "1  [Produced by Irv Gotti]\\n\\n[Intro]\\nYeah, hah,...   3            en   \n",
            "2  Maybe cause I'm eatin\\nAnd these bastards fien...   4            en   \n",
            "3  [Produced by Kanye West and Brian Miller]\\n\\n[...   5            en   \n",
            "4  [Intro]\\nSo they ask me\\n\"Young boy\\nWhat you ...   6            en   \n",
            "5  [Intro: Lil Wayne]\\nHaha\\nUh-huh\\nNo homo (You...   7            en   \n",
            "6  [Intro: Pusha T]\\nNo, no, no!\\nI told you, I l...   8            en   \n",
            "7  [Verse 1: Cam'ron]\\nKilla, Dipset\\nMan I spit ...   9            en   \n",
            "8  [Verse 1]\\nAy yo you wonder who I are\\nI guzzl...  10            en   \n",
            "9  [Chorus: Jaheim]\\nNow Lord you know, just how ...  11            en   \n",
            "\n",
            "  language_ft language  \n",
            "0          en       en  \n",
            "1          en       en  \n",
            "2          en       en  \n",
            "3          en       en  \n",
            "4          en       en  \n",
            "5          en       en  \n",
            "6          en       en  \n",
            "7          en       en  \n",
            "8          en       en  \n",
            "9          en       en  \n",
            "<class 'pandas.core.frame.DataFrame'>\n",
            "RangeIndex: 5134856 entries, 0 to 5134855\n",
            "Data columns (total 11 columns):\n",
            " #   Column         Dtype \n",
            "---  ------         ----- \n",
            " 0   title          object\n",
            " 1   tag            object\n",
            " 2   artist         object\n",
            " 3   year           int64 \n",
            " 4   views          int64 \n",
            " 5   features       object\n",
            " 6   lyrics         object\n",
            " 7   id             int64 \n",
            " 8   language_cld3  object\n",
            " 9   language_ft    object\n",
            " 10  language       object\n",
            "dtypes: int64(3), object(8)\n",
            "memory usage: 430.9+ MB\n",
            "None\n"
          ]
        }
      ],
      "source": [
        "import os\n",
        "import pandas as pd\n",
        "\n",
        "# Falls die Datei im aktuellen Verzeichnis oder in einem \"data\"-Unterordner liegt\n",
        "file_path_current = \"song_lyrics.csv\"\n",
        "file_path_data = os.path.join(\"data\", \"song_lyrics.csv\")\n",
        "\n",
        "if os.path.exists(file_path_current):\n",
        "    file_path = file_path_current\n",
        "elif os.path.exists(file_path_data):\n",
        "    file_path = file_path_data\n",
        "else:\n",
        "    # Backup mit absolutem Pfad\n",
        "    file_path = \"/Users/lucaschambeck/Library/CloudStorage/OneDrive-ZHAW/Studium/Semester 4/PM4/PM4_Lyrics/data/song_lyrics.csv\"\n",
        "\n",
        "print(\"Using file path:\", file_path)\n",
        "print(\"File exists:\", os.path.exists(file_path))\n",
        "\n",
        "try:\n",
        "    df = pd.read_csv(file_path)\n",
        "    print(df.head(10))\n",
        "    print(df.info())\n",
        "except FileNotFoundError as e:\n",
        "    print(f\"Error: {e}\")"
      ]
    },
    {
      "cell_type": "code",
      "execution_count": 7,
      "metadata": {
        "execution": {
          "iopub.execute_input": "2023-11-14T18:33:52.472481Z",
          "iopub.status.busy": "2023-11-14T18:33:52.471079Z",
          "iopub.status.idle": "2023-11-14T18:33:52.964985Z",
          "shell.execute_reply": "2023-11-14T18:33:52.963275Z",
          "shell.execute_reply.started": "2023-11-14T18:33:52.472432Z"
        },
        "id": "Sm7OSkEiIsvl",
        "trusted": true
      },
      "outputs": [
        {
          "name": "stdout",
          "output_type": "stream",
          "text": [
            "['rap' 'rb' 'rock' 'pop' 'misc' 'country']\n"
          ]
        }
      ],
      "source": [
        "print(df[\"tag\"].unique())"
      ]
    },
    {
      "cell_type": "markdown",
      "metadata": {
        "id": "7sjQ5VOPIsvl"
      },
      "source": [
        "However, this df has a few problems that need to be addressed before using it for this project. Firstly, this df has lyrics from all different languages. For the purpose of this project, I'm going to limit the scope to just English songs. There may be a deeper correlation that can be made by using all languages, but for readability I chose to limit it to English. This can be easily done by filtering out songs using the `language` column restricting it to only 'en'.\n",
        "\n",
        "Some of the data entries lack a tag or lack substantial lyrics which would break or confuse the AI so those will also be removed from the database.\n",
        "\n",
        "Additionally, the lyrics of a song on Genius are split up by verses and choruses and other musical notations separated from the lyrics with brackets. For example, a song can have the line `[Verse 1: Drake]`that follows before a verse sung by Drake. For the purposes of this project, those lines will remain in the lyrics. They aren't technically lyrics, but the AI can notice patterns with artists and verse/chorus/introduction setups to help classify which genre the song is in.\n",
        "\n",
        "Finally, Genius allows users to upload lyrics for things that aren't songs as well such as scripts or poems. These are all tagged as 'misc,' but some songs are also tagged as misc. For the sake of simplicity, I will be culling all lyrics tagged as misc from the database even if they are songs, leaving just `rap`, `rb`, `rock`, `pop`, and `country` as the possible genre predictions."
      ]
    },
    {
      "cell_type": "code",
      "execution_count": 8,
      "metadata": {
        "execution": {
          "iopub.execute_input": "2023-11-14T18:33:52.969814Z",
          "iopub.status.busy": "2023-11-14T18:33:52.968847Z",
          "iopub.status.idle": "2023-11-14T18:34:06.881705Z",
          "shell.execute_reply": "2023-11-14T18:34:06.879363Z",
          "shell.execute_reply.started": "2023-11-14T18:33:52.969755Z"
        },
        "id": "mLwaeWlhIsvl",
        "trusted": true
      },
      "outputs": [],
      "source": [
        "db = (\n",
        "    df\n",
        "    .loc[df[\"language\"] == \"en\"]\n",
        "    .loc[df[\"tag\"] != \"misc\"]\n",
        "    .loc[df[\"tag\"] != \"\"]\n",
        "    .loc[df[\"tag\"] != None]\n",
        "    .loc[df[\"lyrics\"] != None]\n",
        "    .loc[df[\"lyrics\"] != \"\"]\n",
        "    .loc[df[\"lyrics\"] != \"[Instrumental]\"] #some songs without lyrics will squeeze\n",
        "                                                       #their way onto the website for no\n",
        "                                                       # discernable reason\n",
        ")\n",
        "db = db.sort_values(by=\"id\")"
      ]
    },
    {
      "cell_type": "markdown",
      "metadata": {
        "id": "AybZbCCSIsvl"
      },
      "source": [
        "This df has several columns that can be used for all sorts of implementation. For the sake of this project only the `lyrics`, `tag`, and `id` columns are of interest to the AI, and `title` and `artist` help *us* read and understand the data.\n",
        "\n",
        "`id` is how we iterate through each song, and `title` and `artist` is how we display the name of the song found by the id.\n",
        "\n",
        "`lyrics` is our text input and `tag` is our classification output. We need these to train the AI.\n",
        "\n",
        "The `language` column is extraneous now that we have filtered out any songs that are not in english."
      ]
    },
    {
      "cell_type": "code",
      "execution_count": 9,
      "metadata": {
        "execution": {
          "iopub.execute_input": "2023-11-14T18:34:06.88395Z",
          "iopub.status.busy": "2023-11-14T18:34:06.883442Z",
          "iopub.status.idle": "2023-11-14T18:34:08.121255Z",
          "shell.execute_reply": "2023-11-14T18:34:08.119682Z",
          "shell.execute_reply.started": "2023-11-14T18:34:06.883908Z"
        },
        "id": "g8KS3s6XIsvl",
        "trusted": true
      },
      "outputs": [
        {
          "data": {
            "application/vnd.microsoft.datawrangler.viewer.v0+json": {
              "columns": [
                {
                  "name": "index",
                  "rawType": "int64",
                  "type": "integer"
                },
                {
                  "name": "id",
                  "rawType": "int64",
                  "type": "integer"
                },
                {
                  "name": "title",
                  "rawType": "object",
                  "type": "string"
                },
                {
                  "name": "artist",
                  "rawType": "object",
                  "type": "string"
                },
                {
                  "name": "lyrics",
                  "rawType": "object",
                  "type": "string"
                },
                {
                  "name": "tag",
                  "rawType": "object",
                  "type": "string"
                }
              ],
              "conversionMethod": "pd.DataFrame",
              "ref": "bfcabf6a-0678-49de-97cb-87d9e95ad3dc",
              "rows": [
                [
                  "0",
                  "1",
                  "Killa Cam",
                  "Cam'ron",
                  "[Chorus: Opera Steve & Cam'ron]\nKilla Cam, Killa Cam, Cam\nKilla Cam, Killa Cam\nKilla Cam, Cam\nKilla Cam, Killa Cam, Cam\nKilla Killa Killa Cam\nKilla Cam, Cam, Killa (Killa!)\nKilla Cam, Killa Cam, Cam (Bases loaded)\nKilla Cam, Killa Cam (Uh-huh)\nKilla Cam, Cam (Santana on second, Jim on third)\nKilla Cam, Killa Cam, Cam (I'm at bat)\nKilla Killa Killa Cam\nKilla Cam, Cam, Killa (I'm 'bout to hit this shit out the world)\nKilla Cam (Ugh, Heatmakerz), Killa Cam, Cam\nKilla Cam, Killa Cam\nKilla Cam, Cam (Hahahaha)\nKilla Cam, Killa Cam, Cam\nKilla Killa Killa Cam\nKilla Cam, Cam, Killa (We  make this shit clap)\nKilla Cam, Killa Cam, Cam\nKilla Cam, Killa Cam\nKilla Cam, Cam\nKilla Cam, Killa Cam, Cam\nKilla Killa Killa Cam (Killa! Killa!)\nKilla Cam, Cam, Killa\n[Verse 1]\nWith the goons I spar, stay in tune with ma (What up?)\nShe like, \"Damn, this the realest since 'Kumbaya'\"\nBomaye, Killa Cam, my Lord (My Lord)\nStill the man with the pan, scrilla, fam, on board\nNow bitches, they want to neuter me, niggas, they want to tutor me\nThe hooligan in Houlihan's, maneuvering's nothing new to me\nDoggy, I'm from the land of grind, pan-pan: gram or dime?\nNot toes or MC when I say \"hammer time\"\nBeef: I hammer mine, when I get my hands on nines\nIf I had on 'Bama line, Corduroys, Cam'll shine\nCanary burgundy: I call it \"Lemon Red\" (Red)\nYellow diamonds in my ear, call 'em \"Lemonheads\"\nLemonhead, end up dead, ice like Winnipeg\nGemstone, Flintstones, you could say I'm friends with Fred\nYou unhappy, scrappy? (What's going on, Scrappy?)\nI got Pataki at me\nBitches say I'm \"Tacky Daddy,\" Range look like Laffy Taffy\n\n[Chorus]\nKilla Cam\nKilla Cam Cam (sing)\nKilla Cam Killa Cam\nKilla Cam Cam (uhh, it's me, clap)\nKilla Cam\nKilla Cam Cam\nKilla Killa Killa Cam (sing)\nKilla Cam Cam Killa (uhh, it's me, clap)\nKilla Cam\nKilla Cam Cam (sing)\nKilla Cam Killa Cam\nKilla Cam Cam (clap, it's me)\nKilla Cam\nKilla Cam Cam\nKilla Killa Killa Cam (clap)\n(Harlem, I know y'all know about this)\nKilla Cam Cam Killa (Killa!)\n[Verse 2]\nYo, I'm from where Nicky Barnes got rich as fuck\nRich and A hit the kitchens then were pitchin' up\nRob Base, Mase, Doug E Fresh switched it up\nI do both, who am I to fuck tradition up? (Killa!)\nSo I parked in a tow-away zone\nChrome...I don't care\nThat car a throwaway, homes (Killa!)\nWelcome to Harlem, where you welcome to problems\nOff of furlough, fellow felons get pardons\nThem niggas knew we bang\nStood out like Pootie Tang\nSoon as the stoolie sings\nThat when the toolie sing!\nBang! Bang!\nCame from that movie ring\nSnap, crack jewelry bling\nFlapjack, ooh he bring\nClack-clack, \"ooh he ring!\"\nBad rap, cuties cling\nAss cap, put them in the river\nI'm the sushi king\nAnd I'ma keep ya fresh\nLet the fish eat ya flesh\nYes sir, please confess\nJust say he's the best (Killa!)\n[Chorus]\nKilla Cam (sing)\nKilla Cam Cam (clap)\nKilla Cam Killa Cam (yes)\nKilla Cam Cam (it's me, sing)\nKilla Cam\nKilla Cam Cam (sing)\nKilla Killa Killa Cam\nKilla Cam Cam Killa  (clap, yes sir, uhh)\nKilla Cam\nKilla Cam Cam (sing, clap)\nKilla Cam Killa Cam\nKilla Cam Cam (it's me)\nKilla Cam (sing, clap)\nKilla Cam Cam\nKilla Killa Killa Cam\n(Let me end this shit, listen)\nKilla Cam Cam Killa\n\n[Verse 3]\n(Killa!) Yo\nHow dope is this?\nTeach you how to rope a chick\nWhat you want: coke or piff?\nGot it all, smoke or sniff? (everything)\nAnd you know my drift\nUsed to figures, dough and shit (millions)\nYou a rooster nigga, just a roaster, bitch\nAnd I roast ya bitch\nThat's how it usually ends\nTell her and her groupie friends\nGo get their coochie cleansed\nWe the moody Gucci, Louis and Pucci men\nEscada, Prada\nThe chopper it got the Uzi lens\nBird's-eye view\nThe birds I knew flip birds\nBird gangs, it was birds I flew\nAnd word I blew off herb I grew\nI would serve on stoops\nNow swerve in coupes\nIt's me, sing! Killa, uhh\n\n[Chorus]\nKilla Cam\nKilla Cam Cam\nKilla Cam Killa Cam\nKilla Cam Cam\nKilla Cam\nKilla Cam Cam\nKilla Killa Killa Cam\nKilla Cam Cam Killa\nKilla Cam\nKilla Cam Cam\nKilla Cam Killa Cam\nKilla Cam Cam\nKilla Cam\nKilla Cam Cam\nKilla Killa Killa Cam\nKilla Cam Cam Killa",
                  "rap"
                ],
                [
                  "1",
                  "3",
                  "Can I Live",
                  "JAY-Z",
                  "[Produced by Irv Gotti]\n\n[Intro]\nYeah, hah, yeah, Roc-A-Fella\nWe invite you to somethin' epic, you know?\nWell, we hustle out of a sense of hopelessness\nSort of a desperation\nThrough that desperation, we become addicted\nSort of like the fiends we accustomed to servin'\nBut we feel we have nothin' to lose\nSo, we offer you, well, we offer our lives, right?\nWhat do you bring to the table?\n\n[Verse 1]\nWhile I'm watchin' every nigga watchin' me closely\nMy shit is butter for the bread, they wanna toast me\nI keep my head, both of them, where they supposed to be\nHoes'll get you sidetracked, then clapped from close feet\nI don't sleep, I'm tired, I feel wired like codeine, these days\nA brother gotta admire me from four fiends away\nMy pain, wish it was quick to see\nFrom sellin' 'caine 'til brains was fried to a fricassee\nCan't lie, at the time it never bothered me\nAt the bar, gettin' my thug on properly\nMy squad and me lack of respect for authority\nLaughin' hard, happy to be escapin' poverty, however brief\nI know this game got valleys and peaks\nExpectation for dips, for precipitation we stack chips, hardly\nThe youth I used to be, soon to see a mill'in\nNo more Big Willie, my game has grown\nPrefer you call me William\nIllin' for revenues, Rayful Edmond-like\nChannel 7 News, round seven jewels, head dead in the mic\nForgettin' all I ever knew, convenient amnesia\n\"I suggest you call my lawyer, I know the procedure.\"\nLock my body, can't trap my mind\nEasily explain why we adapt to crime\nI'd rather die enormous than live dormant, that's how we on it\nLive at the main event, I bet a trip to Maui on it\nPresidential suites my residential for the weekend\nConfidentially speakin' in codes since I sense you peekin'\nThe NSX rental, don't be fooled, my game is mental\nWe both out of town, dog, what you tryin' to get into?\nViva Las Vegas, see ya later at the crap tables\nMeet me by the one that starts a G up\nThis way no Fraud Willies present gamblin' they re-up\nAnd we can have a pleasant time, sippin' margaritas\n[Chorus]\nGe-ge-geyeahhh\nCan I live?\nCan I live?\n\n[Verse 2]\nMy mind is infested with sick thoughts that circle\nLike a Lexus, if driven wrong it's sure to hurt you\nDual level like duplexes, in unity\nMy crew and me commit atrocities like we got immunity\nYou guessed it, manifest it\nIn tangible goods, platinum Rolex'd it\nWe don't lease, we buy the whole car, as you should\nMy confederation, dead a nation\nExplode on detonation, overload the mind of a said patient\nWhen it boils to steam, it comes to it\nWe all fiends, gotta do it: even righteous minds go through this\nTrue this, the streets school us to spend our money foolish\nBond with jewelers and watch for intruders\nI stepped it up another level, meditated like a Buddhist\nRecruited lieutenants with ludicrous dreams of gettin' cream\n\"Let's do this,\" it gets tedious\nSo I keep one eye open like CBS — you see me stressed, right?\n\n[Chorus]\nCan I live?\nCan I live?\nCan I live?\nCan I live?",
                  "rap"
                ],
                [
                  "2",
                  "4",
                  "Forgive Me Father",
                  "Fabolous",
                  "Maybe cause I'm eatin\nAnd these bastards fiend for they grub\nI carry pumps like I serve gasoline to these scrubs\nHave you seen my Aston leanin on dubs\nAnd they can't afford chrome so they puttin Vaseline on they hubs\nI'm lookin for a girl with a ass like Trina to rub\nTake home and let her watch the plasma screen in the tub\nThese niggas hate I move as smooth as castor cream in the club\nAnd dont pass my green or my bub\nBut I'm a fly nigga that don't do much to pull her and dick her\nEveryday I'm poppin a tag and pullin a sticker\nEveryday I'm switchin the tags and pullin up sicker\nEvery \"K\" I'm loadin the mags with bullets to flicker\nAnd I ain't hesitatin homie I'm pullin it quicker\nSo you can act tough After a few pulls of some liquor\nGotta pull it on niggas\nAnd they won't be goin nowhere for a while\nThey might as well pull out a snicker Ye-Ye-Yea\n\n[Hook]\nForgive me father for I have sinned\nBut look at all this money that I spend\nAnd look at all this jewlery that I'm in\nAnd look at all the places that I've been\nAnd look at all the women in those brims\nLook at the blue flames that I'm in\nI look at all the bullshit that theres been\nAnd if I had another chance I'd do it again\n[Verse 2]\nAnywhere the kid move you know the hammers'll be with me\nPokin out the shirt like a Pamela Lee titty\nI went on tour brought the samples of D wit me\nCame back a month later bought a Lambo for three-fifty\nThink I throw you grams if you read with me\nJust because you see me on the camera with P. Diddy\nDammit we P-driddy?? Now I got G with me\nAlong with the third leg that I be rammin in these bitties\nI keep the revolver you hope my gun'll jam\nBut with the scope its gonna blam\nThe infra put freckles on your face like Opie Cunningham\nThats why I'm watched by the Feds and scoped by Uncle Sam\nDope and hunn-ed (hundred) grams rope and hunn-ed grams\nAt the same time an artist get to open Summer Jam\nHope you understand or use better sense\nThese niggas dont want no beef they want lawsuit settlements Nigga!\n\n[Hook]\n\n[Verse 3]\nI'm in a waggy when I'm passin by ya\nWith a baby girl who suck harder than Maggie on a pacifier\nWhat I'm smokin'll have you aggie as your last supplier\nWhen you can smell it through the baggie you know that's some fire\nGettin stressed by these hotties is regular\nI got a magazine to press to your body like editors\nTest me somebody I'm beggin ya\nI got the gatling gun like Jesse The Body in Predator\nI'm a hustler I dont sling no rocks to the fiends now\nGot dudes who sit on corners like a boxer between rounds\nAny other dude who dish rocks want beef\nCause I chop dimes bigger than Chris Rock front teeth\nI'm the nigga tearin the walls up in your miss in exchange for a small cup\nOf the Cris\nAnd while you at probation fillin a small cup full of piss\nI'm in a coupe with a roof that ball up like a fist (Catch up!)",
                  "rap"
                ],
                [
                  "3",
                  "5",
                  "Down and Out",
                  "Cam'ron",
                  "[Produced by Kanye West and Brian Miller]\n\n[Intro: Cam'ron & Kanye West]\nUgh, Killa!\nBaby!\nKanye, this that 1970s Heron flow, huh?\nYeah, let's speed it up\nUgh, I'm back in, ugh, ugh\nThey don't know we finna kill the game this year\nKilla! 'Ye! C'mon!\n\n[Verse 1: Cam'ron]\nAyo, street mergers, I legislated; the nerve, I never hated\nOn murders, premeditated—absurd! I hesitated\nObserve: cock and spray, hit you from a block away\nDrinking sake on a Suzuki; we in Osaka Bay\nPlaying soccer, stupid, stay in a sucker's place\nPluck your ace, take your girl, fuck her face\nShe dealing with Killa, so you love her taste\nShe swallowing Killa 'cause she love the taste\nI got brought up with crooking, kitchen orders that I'm cooking\nBut got caught up with the juxes\nYou would've thought I was from Brooklyn\nIt gets boring just looking\nDid like Bill Cosby, pouring in the pudding\nNow, the dashboard is wooden from a hard-tangled grammar\nInterior, inferior; Star-Spangled Banner\nCar game bananas, mob manning tanners\nGuns everywhere, like the car came with hammers, he's back\n[Chorus: Kanye West & (Syleena Johnson)]\nThey trying to say he (I'm down, down)\nI hear niggas saying he (I'm down, but not out)\nBut our flow is the truest (Oh), the game's in the nooses (No no)\nOur girls is the models (Oh), they coochies the juiciest (Ooooh)\nYeah, they say he (I'm down, down)\nYeah, they say he (I'm down, but not out)\n'Cause I'm back on my grind (Oh), money back on my mind (No no)\nYe and Killa Cam, the world is mine (Oooh)\n\n[Verse 2: Cam'ron]\nI treat bitches straight up, like Simon Says\nOpen vagina; put your legs behind your head\nCop me Air Ones, hon, lime and red\nYou got pets? Me too: mines are dead, doggy\nFox, minks, gators, that's necessary\nAccessories, my closet's Pet Sematary\nI get approached by animal activists\nI live in a zoo, I run scandals with savages\nAll my niggas get together to gather loot\nBodyguard for what? Dog, I'd rather shoot\nI go to war, old Timbs, battered boots\nHand grenade, goggles and a parachute\nY'all don't even know the name of my flip\nIt was \"Touch Me, Tease Me\" when Case was the shit\nYou don't know bout the cases I get:\nCourt case, briefcase, suitcase, cases of Cris', oww!\n[Chorus: Kanye West & (Syleena Johnson)]\nThey trying to say he (I'm down, down)\nI hear niggas saying he (I'm down, but not out)\nBut our flow is the truest (Oh), the game's in the nooses (No no)\nOur girls is the models (Oh), they coochies the juiciest (Ooooh)\nYeah, they say he (I'm down, down)\nYeah, they say he (I'm down, but not out)\n'Cause I'm back on my grind (Oh), money back on my mind (No no)\nYe and Killa Cam, the world is mine (Oooh)\n\n[Verse 3: Cam'ron]\nUgh, Killa, yo, yo, ayo—\nYou dealing with some sure shit, my bitches pure thick\nPlay razor tag, slice your face, you're it!\nIt's I who come by, drive-thru\nGator-toed Mauri, three quarters, sky-blue\nLook at mami: eyes blue, 5'2''\nI approached her—\"Hi, boo, how you?\nPony skin Louie? Oh, you fly too\nYou a stewardess? Good, ma—I fly too\"\nNow, a nigga got baking to bake\nHarlem shake? Nah, I'm in Harlem shaking the weight\nShaking to bake, shaking the Jakes\nKill you, shoot the funeral up and Harlem Shake at your wake\nJust your picture, though; you still taped in a lake\nI'm laughing; you couldn't wait to escape\nFor anyone who owed the dough, I had to load the four\nI hope a nigga heard when I said \"I told you so\"\nUgh, Killa!\n[Chorus: Kanye West & (Syleena Johnson)]\nThey trying to say he (I'm down, down)\nI hear niggas saying he (I'm down, but not out)\nBut our flow is the truest (Oh), the game's in the nooses (No no)\nOur girls is the models (Oh), they coochies the juiciest (Ooooh)\nYeah, they say he (I'm down, down)\nYeah, they say he (I'm down, but not out)\n'Cause I'm back on my grind (Oh), money back on my mind (No no)\nYe and Killa Cam, the world is mine (Oooh)\n\n[Outro: Cam'ron]\nMine! Killa!\nYou already know Harlem\nWhole Midwest, Detroit, Naptown, St. Louis\nChicago, of course\nWestside, holla at me\nSouthside, wild hundreds\nYou know what it is, Ohio\nColumbus, holla at your boy\nYou know what else I do:\nDayton, Youngstown, Cleveland, Cincinnati",
                  "rap"
                ],
                [
                  "4",
                  "6",
                  "Fly In",
                  "Lil Wayne",
                  "[Intro]\nSo they ask me\n\"Young boy\nWhat you gon' do the second time around?\nHow you gon' come back?\"\nI tried told 'em\n\"I come back like 32\nI jump back like 33\"\nUgh, hit me\nThat's nothing\nThis is Tha Carter II, people\nThis is Tha Carter II, people\nHey\n\n[Verse]\nThey call me Mr. Carter, I kissed the daughter\nOf the dead's forehead, I killed the father\nSpilled the heart of a mildew hater\nI will put them body on chill like glaciers, gracias\nI'm crazy, yes, it's obvious\nGoing against me is atheist\nI got my angels on my shoulder and a quarter of that angel dust\nI ain't sniffing, I'm just pitching, your honor\nI ain't snitching, your honor\nHate bitch niggas, bitches with power\nVacate when that kitchen get hotter\nI just sit on the counter\nOpen the cabinet, close the cupboard\nPut that jar in the skillet, drop a four in the bubbles\nI remember being young, tryna hustle my dope\nTryna tell the old junkies that my crack ain't soap\nTryna tell you 'fore you jump that my MAC ain't broke\nYou ain't tryna see how far that black back lane go, no\nCall me Pac-Man, your ghost is blue\nI got my Red River rubies and my ocean blue jewelry\nUsually I'm a hooligan for the money\nYeah, I'm eating, but I got a tapeworm in my tummy, oh\nMake harm and I bomb you in public\nHit you with the straight-arm, no warning, nothing\nLook, it's morning, no yawning or nothing\nI ain't sleeping, I'm up tryna take a nigga lunch\nYou gon' make a nigga break a nigga fronts\nThen shake a nigga shorts and we taking what we want\nI'm so 504, you got to kill me here\nIf you ever looking for me, bitch, I will be here\nCash Money is an army, Navy Seal me here\nLot of niggas ran from me, but I still be here\nNo chrome on the Continental, I'm so fundamental\nCrack the Phil', crack the roof, and roll up the windows\nAnd my hood love me, they tell me bring it home\nThat's why I holler Hollygrove on each and every song\nYou leaping at a dog, a dog with no bark\nJust a bite like an old shark\nAnd all you rich niggas know Pa, I'm talking 'bout Stunna\nHe like, \"Keep your dough,\" he got your ho\nAnd the sun shines on the king and sets on the prince\nI met the Birdman and I been shining ever since, like that",
                  "rap"
                ]
              ],
              "shape": {
                "columns": 5,
                "rows": 5
              }
            },
            "text/html": [
              "<div>\n",
              "<style scoped>\n",
              "    .dataframe tbody tr th:only-of-type {\n",
              "        vertical-align: middle;\n",
              "    }\n",
              "\n",
              "    .dataframe tbody tr th {\n",
              "        vertical-align: top;\n",
              "    }\n",
              "\n",
              "    .dataframe thead th {\n",
              "        text-align: right;\n",
              "    }\n",
              "</style>\n",
              "<table border=\"1\" class=\"dataframe\">\n",
              "  <thead>\n",
              "    <tr style=\"text-align: right;\">\n",
              "      <th></th>\n",
              "      <th>id</th>\n",
              "      <th>title</th>\n",
              "      <th>artist</th>\n",
              "      <th>lyrics</th>\n",
              "      <th>tag</th>\n",
              "    </tr>\n",
              "  </thead>\n",
              "  <tbody>\n",
              "    <tr>\n",
              "      <th>0</th>\n",
              "      <td>1</td>\n",
              "      <td>Killa Cam</td>\n",
              "      <td>Cam'ron</td>\n",
              "      <td>[Chorus: Opera Steve &amp; Cam'ron]\\nKilla Cam, Ki...</td>\n",
              "      <td>rap</td>\n",
              "    </tr>\n",
              "    <tr>\n",
              "      <th>1</th>\n",
              "      <td>3</td>\n",
              "      <td>Can I Live</td>\n",
              "      <td>JAY-Z</td>\n",
              "      <td>[Produced by Irv Gotti]\\n\\n[Intro]\\nYeah, hah,...</td>\n",
              "      <td>rap</td>\n",
              "    </tr>\n",
              "    <tr>\n",
              "      <th>2</th>\n",
              "      <td>4</td>\n",
              "      <td>Forgive Me Father</td>\n",
              "      <td>Fabolous</td>\n",
              "      <td>Maybe cause I'm eatin\\nAnd these bastards fien...</td>\n",
              "      <td>rap</td>\n",
              "    </tr>\n",
              "    <tr>\n",
              "      <th>3</th>\n",
              "      <td>5</td>\n",
              "      <td>Down and Out</td>\n",
              "      <td>Cam'ron</td>\n",
              "      <td>[Produced by Kanye West and Brian Miller]\\n\\n[...</td>\n",
              "      <td>rap</td>\n",
              "    </tr>\n",
              "    <tr>\n",
              "      <th>4</th>\n",
              "      <td>6</td>\n",
              "      <td>Fly In</td>\n",
              "      <td>Lil Wayne</td>\n",
              "      <td>[Intro]\\nSo they ask me\\n\"Young boy\\nWhat you ...</td>\n",
              "      <td>rap</td>\n",
              "    </tr>\n",
              "  </tbody>\n",
              "</table>\n",
              "</div>"
            ],
            "text/plain": [
              "   id              title     artist  \\\n",
              "0   1          Killa Cam    Cam'ron   \n",
              "1   3         Can I Live      JAY-Z   \n",
              "2   4  Forgive Me Father   Fabolous   \n",
              "3   5       Down and Out    Cam'ron   \n",
              "4   6             Fly In  Lil Wayne   \n",
              "\n",
              "                                              lyrics  tag  \n",
              "0  [Chorus: Opera Steve & Cam'ron]\\nKilla Cam, Ki...  rap  \n",
              "1  [Produced by Irv Gotti]\\n\\n[Intro]\\nYeah, hah,...  rap  \n",
              "2  Maybe cause I'm eatin\\nAnd these bastards fien...  rap  \n",
              "3  [Produced by Kanye West and Brian Miller]\\n\\n[...  rap  \n",
              "4  [Intro]\\nSo they ask me\\n\"Young boy\\nWhat you ...  rap  "
            ]
          },
          "execution_count": 9,
          "metadata": {},
          "output_type": "execute_result"
        }
      ],
      "source": [
        "columns_of_interest = ['id', 'title','artist', 'lyrics', 'tag']\n",
        "db = db[columns_of_interest]\n",
        "db.sort_values(by=\"id\")\n",
        "db.head()"
      ]
    },
    {
      "cell_type": "markdown",
      "metadata": {
        "id": "_Aq3Hxf8Isvl"
      },
      "source": [
        "Once we've culled all unnecessary data and extraneous columns from the database we are left with a cleaned up set of data to feed to the AI model. However, there are still foreign symbols and other quirks present in the data that will confuse the AI.\n",
        "\n",
        "Most notably, each of the string values has many many `\\n`s signifying new lines in the lyrics page. We want to keep these new-line symbols for the AI to learn from, but they are not separated by spaces and the AI will consider anything not separated by spaces as one word. Consider this song for example:"
      ]
    },
    {
      "cell_type": "code",
      "execution_count": 10,
      "metadata": {
        "execution": {
          "iopub.execute_input": "2023-11-14T18:34:08.124634Z",
          "iopub.status.busy": "2023-11-14T18:34:08.123712Z",
          "iopub.status.idle": "2023-11-14T18:34:08.13973Z",
          "shell.execute_reply": "2023-11-14T18:34:08.138157Z",
          "shell.execute_reply.started": "2023-11-14T18:34:08.124573Z"
        },
        "id": "81CcZwjXIsvl",
        "trusted": true
      },
      "outputs": [
        {
          "name": "stdout",
          "output_type": "stream",
          "text": [
            "[[154314 'Do I Wanna Know?' 'Arctic Monkeys'\n",
            "  \"[Verse 1]\\nHave you got colour in your cheeks?\\nDo you ever get that fear that you can't shift the type\\nThat sticks around like summat in your teeth?\\nAre there some aces up your sleeve?\\nHave you no idea that you're in deep?\\nI've dreamt about you nearly every night this week\\nHow many secrets can you keep?\\n'Cause there's this tune I found\\nThat makes me think of you somehow an' I play it on repeat\\nUntil I fall asleep, spillin' drinks on my settee\\n\\n[Pre-Chorus]\\n(Do I wanna know?) If this feelin' flows both ways?\\n(Sad to see you go) Was sorta hopin' that you'd stay\\n(Baby, we both know) That the nights were mainly made\\nFor sayin' things that you can't say tomorrow day\\n\\n[Chorus]\\nCrawlin' back to you\\nEver thought of callin' when\\nYou've had a few?\\n'Cause I always do\\nMaybe I'm too\\nBusy bein' yours\\nTo fall for somebody new\\nNow, I've thought it through\\nCrawlin' back to you\\n[Verse 2]\\nSo have you got the guts?\\nBeen wonderin' if your heart's still open\\nAnd if so, I wanna know what time it shuts\\nSimmer down an' pucker up, I'm sorry to interrupt\\nIt's just I'm constantly on the cusp of tryin' to kiss you\\nI don't know if you feel the same as I do\\nBut we could be together if you wanted to\\n\\n[Pre-Chorus]\\n(Do I wanna know?) If this feelin' flows both ways?\\n(Sad to see you go) Was sorta hopin' that you'd stay\\n(Baby, we both know) That the nights were mainly made\\nFor sayin' things that you can't say tomorrow day\\n\\n[Chorus]\\nCrawlin' back to you (Crawlin' back to you)\\nEver thought of callin' when\\nYou've had a few? (Had a few)\\n'Cause I always do ('Cause I always do)\\nMaybe I'm too (Maybe I'm too busy)\\nBusy bein' yours (Bein' yours)\\nTo fall for somebody new\\nNow, I've thought it through\\nCrawlin' back to you\\n[Outro]\\n(Do I wanna know?) If this feelin' flows both ways?\\n(Sad to see you go) Was sorta hopin' that you’d stay\\n(Baby, we both know) That the nights were mainly made\\nFor sayin' things that you can't say tomorrow day\\n(Do I wanna know?) Too busy bein' yours to fall\\n(Sad to see you go) Ever thought of callin', darlin'?\\n(Do I wanna know?) Do you want me crawlin' back to you?\"\n",
            "  'rock']]\n"
          ]
        }
      ],
      "source": [
        "print(db.loc[db[\"id\"] == 154314].values)"
      ]
    },
    {
      "cell_type": "markdown",
      "metadata": {
        "id": "7-lfpJnWIsvm"
      },
      "source": [
        "In this example you can see there are many pieces of the string that are *supposed* to be separate lines, but because of the special character \\n being present and not being buffered by spaces words like \"`settee\\n\\n[Pre-Chorus]\\n(Do`\" are made. This will completely butcher a one-hot matrix and confuse our AI. To fix this, we can separate `\\n` by whitespaces to separate it from the rest of the words.\n",
        "\n",
        "By just doing this we would separate our word example into \"`settee \\n \\n [Pre-Chorus] \\n (Do`.\" This still leaves words like \"`(Do`\" and \"`[Verse`\" present in our example. To solve this, boundary symbols like parentheses and brackets need to be separated by spaces too. By implementing this fix we can keep the musical notation and line separation for the AI to learn from without breaking the AI completely.\n",
        "\n",
        "To do this adjustement we will be using a regular expression library `re`. Here is what our lyrics will look like after we split these character up with whitespace:"
      ]
    },
    {
      "cell_type": "code",
      "execution_count": 11,
      "metadata": {
        "execution": {
          "iopub.execute_input": "2023-11-14T18:34:08.142726Z",
          "iopub.status.busy": "2023-11-14T18:34:08.141781Z",
          "iopub.status.idle": "2023-11-14T18:34:08.160829Z",
          "shell.execute_reply": "2023-11-14T18:34:08.158643Z",
          "shell.execute_reply.started": "2023-11-14T18:34:08.142665Z"
        },
        "id": "pajtKR_5Isvm",
        "trusted": true
      },
      "outputs": [
        {
          "name": "stdout",
          "output_type": "stream",
          "text": [
            "\"[ Verse 1 ] \\n Have you got colour in your cheeks? \\n Do you ever get that fear that you can't shift the type \\n That sticks around like summat in your teeth? \\n Are there some aces up your sleeve? \\n Have you no idea that you're in deep? \\n I've dreamt about you nearly every night this week \\n How many secrets can you keep? \\n 'Cause there's this tune I found \\n That makes me think of you somehow an' I play it on repeat \\n Until I fall asleep, spillin' drinks on my settee \\n \\n [ Pre-Chorus ] \\n ( Do I wanna know? )  If this feelin' flows both ways? \\n ( Sad to see you go )  Was sorta hopin' that you'd stay \\n ( Baby, we both know )  That the nights were mainly made \\n For sayin' things that you can't say tomorrow day \\n \\n [ Chorus ] \\n Crawlin' back to you \\n Ever thought of callin' when \\n You've had a few? \\n 'Cause I always do \\n Maybe I'm too \\n Busy bein' yours \\n To fall for somebody new \\n Now, I've thought it through \\n Crawlin' back to you \\n [ Verse 2 ] \\n So have you got the guts? \\n Been wonderin' if your heart's still open \\n And if so, I wanna know what time it shuts \\n Simmer down an' pucker up, I'm sorry to interrupt \\n It's just I'm constantly on the cusp of tryin' to kiss you \\n I don't know if you feel the same as I do \\n But we could be together if you wanted to \\n \\n [ Pre-Chorus ] \\n ( Do I wanna know? )  If this feelin' flows both ways? \\n ( Sad to see you go )  Was sorta hopin' that you'd stay \\n ( Baby, we both know )  That the nights were mainly made \\n For sayin' things that you can't say tomorrow day \\n \\n [ Chorus ] \\n Crawlin' back to you  ( Crawlin' back to you ) \\n Ever thought of callin' when \\n You've had a few?  ( Had a few ) \\n 'Cause I always do  ( 'Cause I always do ) \\n Maybe I'm too  ( Maybe I'm too busy ) \\n Busy bein' yours  ( Bein' yours ) \\n To fall for somebody new \\n Now, I've thought it through \\n Crawlin' back to you \\n [ Outro ] \\n ( Do I wanna know? )  If this feelin' flows both ways? \\n ( Sad to see you go )  Was sorta hopin' that you’d stay \\n ( Baby, we both know )  That the nights were mainly made \\n For sayin' things that you can't say tomorrow day \\n ( Do I wanna know? )  Too busy bein' yours to fall \\n ( Sad to see you go )  Ever thought of callin', darlin'? \\n ( Do I wanna know? )  Do you want me crawlin' back to you?\"\n"
          ]
        }
      ],
      "source": [
        "import re\n",
        "lyrics = db.loc[db[\"id\"] == 154314].values[0][3]\n",
        "\n",
        "parts = re.split(r\"([\\n\\[\\]\\(\\)])\", lyrics)\n",
        "#print(repr(parts))\n",
        "\n",
        "whitespace_lyrics = \" \".join(filter(None, parts))\n",
        "print(repr(whitespace_lyrics))"
      ]
    },
    {
      "cell_type": "markdown",
      "metadata": {
        "id": "SWxbFnzpIsvm"
      },
      "source": [
        "Much better! Now you can see our original problem \"word\" of \"`settee\\n\\n[Pre-Chorus]\\n(Do`\" has been properly split into \"`sette \\n \\n [ Pre-Chorus ] ( Do`\". Our data still is not perfect, as you can see there are puncuation symbols like `?` and `,`  and any punctuated word will be considered a separate entry by the AI. So `Know` and `Know?` and `Know,` are all considered unique words. This can be solved by removing the punctuation from our lyrics using `re`."
      ]
    },
    {
      "cell_type": "code",
      "execution_count": 12,
      "metadata": {
        "execution": {
          "iopub.execute_input": "2023-11-14T18:34:08.16373Z",
          "iopub.status.busy": "2023-11-14T18:34:08.16322Z",
          "iopub.status.idle": "2023-11-14T18:34:08.171701Z",
          "shell.execute_reply": "2023-11-14T18:34:08.170089Z",
          "shell.execute_reply.started": "2023-11-14T18:34:08.163685Z"
        },
        "id": "FpUC5_ciIsvm",
        "trusted": true
      },
      "outputs": [
        {
          "name": "stdout",
          "output_type": "stream",
          "text": [
            "\"[ Verse 1 ] \\n Have you got colour in your cheeks \\n Do you ever get that fear that you can't shift the type \\n That sticks around like summat in your teeth \\n Are there some aces up your sleeve \\n Have you no idea that you're in deep \\n I've dreamt about you nearly every night this week \\n How many secrets can you keep \\n 'Cause there's this tune I found \\n That makes me think of you somehow an' I play it on repeat \\n Until I fall asleep spillin' drinks on my settee \\n \\n [ Pre-Chorus ] \\n ( Do I wanna know )  If this feelin' flows both ways \\n ( Sad to see you go )  Was sorta hopin' that you'd stay \\n ( Baby we both know )  That the nights were mainly made \\n For sayin' things that you can't say tomorrow day \\n \\n [ Chorus ] \\n Crawlin' back to you \\n Ever thought of callin' when \\n You've had a few \\n 'Cause I always do \\n Maybe I'm too \\n Busy bein' yours \\n To fall for somebody new \\n Now I've thought it through \\n Crawlin' back to you \\n [ Verse 2 ] \\n So have you got the guts \\n Been wonderin' if your heart's still open \\n And if so I wanna know what time it shuts \\n Simmer down an' pucker up I'm sorry to interrupt \\n It's just I'm constantly on the cusp of tryin' to kiss you \\n I don't know if you feel the same as I do \\n But we could be together if you wanted to \\n \\n [ Pre-Chorus ] \\n ( Do I wanna know )  If this feelin' flows both ways \\n ( Sad to see you go )  Was sorta hopin' that you'd stay \\n ( Baby we both know )  That the nights were mainly made \\n For sayin' things that you can't say tomorrow day \\n \\n [ Chorus ] \\n Crawlin' back to you  ( Crawlin' back to you ) \\n Ever thought of callin' when \\n You've had a few  ( Had a few ) \\n 'Cause I always do  ( 'Cause I always do ) \\n Maybe I'm too  ( Maybe I'm too busy ) \\n Busy bein' yours  ( Bein' yours ) \\n To fall for somebody new \\n Now I've thought it through \\n Crawlin' back to you \\n [ Outro ] \\n ( Do I wanna know )  If this feelin' flows both ways \\n ( Sad to see you go )  Was sorta hopin' that you’d stay \\n ( Baby we both know )  That the nights were mainly made \\n For sayin' things that you can't say tomorrow day \\n ( Do I wanna know )  Too busy bein' yours to fall \\n ( Sad to see you go )  Ever thought of callin' darlin' \\n ( Do I wanna know )  Do you want me crawlin' back to you\"\n"
          ]
        }
      ],
      "source": [
        "unpunctuated = re.sub(r\"([?.,!:;])\",'',whitespace_lyrics)\n",
        "print(repr(unpunctuated))"
      ]
    },
    {
      "cell_type": "markdown",
      "metadata": {
        "id": "Ttwr29zZIsvm"
      },
      "source": [
        "Finally, to get our data the most AI friendly we should fix slang, and regulate capital letters. This gives our AI the highest chance of success and also allows us to more accurately analyze our df.\n",
        "\n",
        "Some slang we can't fix or predict, but words that end in an apostrophe can be replaced with a 'g', like `Crawlin'` to `Crawling` in our example above. Additionally, `'Cause` can be changed to `Because`. That should affect a significant amount of songs, but it will be impossible to account for all slang. This is good enough for our purposes.\n",
        "\n",
        "To remove capital letters we can just use python's built in `.lower()` method. Very simple."
      ]
    },
    {
      "cell_type": "code",
      "execution_count": 13,
      "metadata": {
        "execution": {
          "iopub.execute_input": "2023-11-14T18:34:08.173787Z",
          "iopub.status.busy": "2023-11-14T18:34:08.173306Z",
          "iopub.status.idle": "2023-11-14T18:34:08.186594Z",
          "shell.execute_reply": "2023-11-14T18:34:08.185434Z",
          "shell.execute_reply.started": "2023-11-14T18:34:08.173737Z"
        },
        "id": "ufTpYL69Isvm",
        "trusted": true
      },
      "outputs": [
        {
          "name": "stdout",
          "output_type": "stream",
          "text": [
            "\"[ verse 1 ] \\n have you got colour in your cheeks \\n do you ever get that fear that you can't shift the type \\n that sticks around like summat in your teeth \\n are there some aces up your sleeve \\n have you no idea that you're in deep \\n i've dreamt about you nearly every night this week \\n how many secrets can you keep \\n 'cause there's this tune i found \\n that makes me think of you somehow an' i play it on repeat \\n until i fall asleep spilling drinks on my settee \\n \\n [ pre-chorus ] \\n ( do i wanna know )  if this feeling flows both ways \\n ( sad to see you go )  was sorta hoping that you'd stay \\n ( baby we both know )  that the nights were mainly made \\n for saying things that you can't say tomorrow day \\n \\n [ chorus ] \\n crawling back to you \\n ever thought of calling when \\n you've had a few \\n 'cause i always do \\n maybe i'm too \\n busy being yours \\n to fall for somebody new \\n now i've thought it through \\n crawling back to you \\n [ verse 2 ] \\n so have you got the guts \\n been wondering if your heart's still open \\n and if so i wanna know what time it shuts \\n simmer down an' pucker up i'm sorry to interrupt \\n it's just i'm constantly on the cusp of trying to kiss you \\n i don't know if you feel the same as i do \\n but we could be together if you wanted to \\n \\n [ pre-chorus ] \\n ( do i wanna know )  if this feeling flows both ways \\n ( sad to see you go )  was sorta hoping that you'd stay \\n ( baby we both know )  that the nights were mainly made \\n for saying things that you can't say tomorrow day \\n \\n [ chorus ] \\n crawling back to you  ( crawling back to you ) \\n ever thought of calling when \\n you've had a few  ( had a few ) \\n 'cause i always do  ( 'cause i always do ) \\n maybe i'm too  ( maybe i'm too busy ) \\n busy being yours  ( being yours ) \\n to fall for somebody new \\n now i've thought it through \\n crawling back to you \\n [ outro ] \\n ( do i wanna know )  if this feeling flows both ways \\n ( sad to see you go )  was sorta hoping that you’d stay \\n ( baby we both know )  that the nights were mainly made \\n for saying things that you can't say tomorrow day \\n ( do i wanna know )  too busy being yours to fall \\n ( sad to see you go )  ever thought of calling darlin' \\n ( do i wanna know )  do you want me crawling back to you\"\n"
          ]
        }
      ],
      "source": [
        "final_lyrics = re.sub(r\"in'(?= \\w|\\.|,|$)\",\"ing\",unpunctuated.lower())\n",
        "\n",
        "print(repr(final_lyrics))"
      ]
    },
    {
      "cell_type": "markdown",
      "metadata": {
        "id": "Xx7JQXznIsvm"
      },
      "source": [
        "Now that our data is ready to be cleaned up and AI ready, let's see some analytical metrics to help us wrap our head around what our AI is working with. Our database is currently quite large clocking in at over 3 million songs after misc and empty entries were removed, so for exploratory analysis we will be cutting our database down to 5% of its original size and applying our edits to that subset."
      ]
    },
    {
      "cell_type": "code",
      "execution_count": 14,
      "metadata": {
        "execution": {
          "iopub.execute_input": "2023-11-14T18:34:08.190338Z",
          "iopub.status.busy": "2023-11-14T18:34:08.189888Z",
          "iopub.status.idle": "2023-11-14T18:34:27.29267Z",
          "shell.execute_reply": "2023-11-14T18:34:27.291068Z",
          "shell.execute_reply.started": "2023-11-14T18:34:08.190305Z"
        },
        "id": "uJ4C1V_OIsvm",
        "trusted": true
      },
      "outputs": [
        {
          "name": "stdout",
          "output_type": "stream",
          "text": [
            "original database:3233212 songs\n",
            "subset:161661 songs\n"
          ]
        },
        {
          "data": {
            "application/vnd.microsoft.datawrangler.viewer.v0+json": {
              "columns": [
                {
                  "name": "index",
                  "rawType": "int64",
                  "type": "integer"
                },
                {
                  "name": "id",
                  "rawType": "int64",
                  "type": "integer"
                },
                {
                  "name": "title",
                  "rawType": "object",
                  "type": "string"
                },
                {
                  "name": "artist",
                  "rawType": "object",
                  "type": "string"
                },
                {
                  "name": "lyrics",
                  "rawType": "object",
                  "type": "string"
                },
                {
                  "name": "tag",
                  "rawType": "object",
                  "type": "string"
                }
              ],
              "conversionMethod": "pd.DataFrame",
              "ref": "ba8ce2ba-a956-40a7-abc7-c5472eb011f4",
              "rows": [
                [
                  "4",
                  "6",
                  "Fly In",
                  "Lil Wayne",
                  "[ intro ] \n so they ask me \n \"young boy \n what you gon' do the second time around \n how you gon' come back\" \n i tried told 'em \n \"i come back like 32 \n i jump back like 33\" \n ugh hit me \n that's nothing \n this is tha carter ii people \n this is tha carter ii people \n hey \n \n [ verse ] \n they call me mr carter i kissed the daughter \n of the dead's forehead i killed the father \n spilled the heart of a mildew hater \n i will put them body on chill like glaciers gracias \n i'm crazy yes it's obvious \n going against me is atheist \n i got my angels on my shoulder and a quarter of that angel dust \n i ain't sniffing i'm just pitching your honor \n i ain't snitching your honor \n hate bitch niggas bitches with power \n vacate when that kitchen get hotter \n i just sit on the counter \n open the cabinet close the cupboard \n put that jar in the skillet drop a four in the bubbles \n i remember being young tryna hustle my dope \n tryna tell the old junkies that my crack ain't soap \n tryna tell you 'fore you jump that my mac ain't broke \n you ain't tryna see how far that black back lane go no \n call me pac-man your ghost is blue \n i got my red river rubies and my ocean blue jewelry \n usually i'm a hooligan for the money \n yeah i'm eating but i got a tapeworm in my tummy oh \n make harm and i bomb you in public \n hit you with the straight-arm no warning nothing \n look it's morning no yawning or nothing \n i ain't sleeping i'm up tryna take a nigga lunch \n you gon' make a nigga break a nigga fronts \n then shake a nigga shorts and we taking what we want \n i'm so 504 you got to kill me here \n if you ever looking for me bitch i will be here \n cash money is an army navy seal me here \n lot of niggas ran from me but i still be here \n no chrome on the continental i'm so fundamental \n crack the phil' crack the roof and roll up the windows \n and my hood love me they tell me bring it home \n that's why i holler hollygrove on each and every song \n you leaping at a dog a dog with no bark \n just a bite like an old shark \n and all you rich niggas know pa i'm talking 'bout stunna \n he like \"keep your dough\" he got your ho \n and the sun shines on the king and sets on the prince \n i met the birdman and i been shining ever since like that",
                  "rap"
                ],
                [
                  "32",
                  "26",
                  "A Milli",
                  "Fabolous",
                  "it's time to get money \n i got a million reasons why i'm better than them  ( a million ) \n yeah  ( i'm about to give you one right now ) \n it's loso in case you ain't know so baby let get right into it \n \n what's really the dilly with these silly muhfuckas \n buncha fake ass milli vanilli muhfuckas \n yet still these muhfuckas say they feel these muhfuckas \n but i only smoke dutches i don't feel these muhfuckas \n they gon pull and shoot what \n no really muhfucka \n you gon run prolly pull ya achilly muhfucka \n nigga please you wouldn't pop a wheelie muhfucka \n you wouldn't raise the heat if you was chilly muhfucka \n i will kill these muhfuckas \n till' these muhfuckas know that i am legend \n call me big willy muhfucka \n i'm wit freck billi and some west philly muhfuckas \n and you can be a vic if you get silly muhfucka \n so if you feelin froggy leap that lily muhfucka \n and i'll serve yo fruity ass like wet willies muhfucka \n i'm like obama to these silly muhfuckas \n and you niggas is clinton hill billy muhfuckas \n niggas said you niggas is clinton hill billy muhfuckers \n hillary bill clin--fuck it they don't get it \n i am a million-aire in some louis v millionaires \n white bucket like gilligan wear \n la familia in here don't care who over there \n red rover red rover send them bitches over here \n you can also send the waiter yeah i think his name ramon \n tell his slow ass to c'mon wit that grey goose and patron \n tryna get em in the zone da da da zone \n so i can pick and roll like stockton and malone \n ya smell me nah baby not my cologne \n let me be clear as some bacardi limon \n looky here simone you can call the phone \n but if you ain't tryna bone you'll be talkin to the tone \n i'm so cocky that all i wanna do is bone \n i'm so rocky my last name should be stallone \n i ain't jimmy baby i ain't here to jones \n fuck whatcha talkin boutits los",
                  "rap"
                ],
                [
                  "38",
                  "32",
                  "Suck My Dick",
                  "Lil' Kim",
                  "[ intro the notorious big ] \n love me when i'm broke or when i'm filthy fucking rich \n \n [ verse 1 ] \n to all my motherfucking getting money hoes \n boosters selling clothes \n and all my ghetto bitches in the projects \n coming through like bulldozers \n no we ain't sober \n bum bitches know better than to start shit \n niggas love a hard bitch \n one that get up in a nigga's ass quicker than an enema \n make a cat bleed then sprinkle it with vinegar \n kidnap the senator \n make him call his wife and say he never coming home \n kim got 'em in the zone beating they dicks \n even got some of these straight chicks rubbing their tits \n what i'm loving this shit queen bitch \n what bitch you know can thug it like this \n imagine if i was dude and hitting cats from the back \n with no strings attached yeah nigga picture that \n i treat y'all niggas like y'all treat us no doubt \n ay yo yo yo come here so i can bust in ya mouth \n [ chorus lil' kim & bristal ] \n ay yo come here bitch \n nigga fuck you \n no fuck you bitch \n who you talking to \n why you acting like a bitch \n 'cause y'all niggas ain't shit \n and if i was dude i'd tell y'all to suck my dick \n \n [ verse 2 ] \n no no no no \n all i wanna do is get my pussy sucked  ( nigga ) \n count a million bucks in the back of an armor truck \n while i get you fucked up off the tony \n the bx the chron-chron and the list goes on and on \n ( on and on and on )  like erykah badu \n once he drink the remy down ooh i got this nigga now \n he asked me did i love him i said what came to mind \n like niggas be doin' \"yeah baby i love you long time\" \n look i ain't trying to suck ya i might not even fuck ya \n just lay me on this bed and give me some head \n got the camcord laying in the drawer where he can't see \n can't wait to show my girls he sucked the piss out my pussy \n been doing this for years no need to practice \n take lessons from the queen and you'll know how to mack this \n niggas know he gave me all his cake \n i peeled the benji's off and threw the singles back in his face \n [ chorus lil' kim & bristal ] \n ay yo come here bitch \n nigga fuck you \n no fuck you bitch \n who you talking to \n why you acting like a bitch \n 'cause y'all niggas ain't shit \n and if i was dude i'd tell y'all to suck my dick \n \n [ verse 3 ] \n i'ma keep it real for the dough i might kill \n i'm tryna see my face on a hunnid dolla bill \n met this dude name jaleel at this abdulla fight \n he said he'd pay me ten grand just to belly dance \n cum all on his pants \n i met him at the studio \n he showed up with his homeboy named julio \n i said \"whoa who's the other guy \n hope you know you paying extra for this fucking third eye\" \n something about him i knew he was a phony \n put the burner in his mouth \"fool give me my money\" \n he was just a nigga fronting like he knew mad stars \n in his homeboy's whips like he got mad cars \n niggas ain't shit but they still can trick \n all they can do for me is suck my clit \n i'm jumping up and up after i cum \n thinking they gon' get some pussy but they gets none \n [ chorus lil' kim & bristal ] \n ay yo come here bitch \n nigga fuck you \n no fuck you bitch \n who you talking to \n why you acting like a bitch \n 'cause y'all niggas ain't shit \n and if i was dude i'd tell y'all to suck my dick",
                  "rap"
                ],
                [
                  "47",
                  "39",
                  "Fireman",
                  "Lil Wayne",
                  "[ intro ] \n ( weezy baby ) \n shh the fireman comin' \n yeah yeah yeah yeah yeah  ( uh-oh ) \n yeah  ( uh-oh hey i'm back )  yeah \n yeah  ( that's right )  yup  ( birdman )  yup \n ( they gon' have to call the law )  uh-huh  ( i'm burning shawty ) \n i'm back  ( i tried told 'em ) \n what you oh what you gon' do now  ( yeah ) \n \n [ chorus ] \n i'm the fireman  ( yeah )  fire f-fireman  ( yeah ) \n i got that fire i'm hollering  ( yeah ) \n i got that fire come and try me and  ( yeah ) \n you can spark it up and i'ma put you out  ( i got 'em get 'em ) \n you can spark it up and i'ma put you out  ( i got 'em ) \n \n [ verse 1 ] \n ain't nobody fucking with me man  ( uh-uh ) \n he-man ski mask spending next week's cash he fast  ( oh ) \n and i don't even need a g-pass i'm past that \n i'm passin' 'em out now  ( yeah )  and you can't have that  ( yeah ) \n and my chain toucan sam that \n tropical colors you can't match that  ( oh no ) \n gotta be abstract  ( oh no ) \n you catch my girl legs open better smash that  ( what ) \n don't be surprised if she ask where the cash at  ( boy ) \n i see she wearing them jeans that show her buttcrack  ( hey ) \n my girls can't wear that why that's where my stash at  ( uh-uh-uh ) \n i put my mac down  ( yeah )  that's where you lack at  ( yeah ) \n she need her candle lit  ( yeah )  and i'ma wax that  ( got 'em ) \n i rekindled the flame  ( got 'em )  she remember the name  ( got 'em ) \n it's weezy baby january december the same  ( who ) \n mama give me that brain  ( yeah )  mama give me that good  ( yeah ) \n 'cause i'm the fireman  ( oh )  you hear the fire truck \n [ chorus ] \n i'm the fireman  ( yeah )  fire f-fireman  ( yeah ) \n i got that fire i'm hollering  ( yeah ) \n i got that fire come and try me and  ( yeah ) \n you can spark it up and i'ma put you out  ( i got 'em get 'em ) \n you can spark it up and i'ma put you out  ( i got 'em ) \n \n [ verse 2 ] \n fresh on campus it's the birdman junior  ( yeah ) \n money too long teachers put away your rulers  ( yeah ) \n raw tune not a cartoon  ( ayy ) \n no shirt tattoos and some war wounds  ( sexy ) \n i'm hot but the car cool \n she wet that's a car-pool \n been in that water since a youngin you just shark food  ( yum yum ) \n quick draw mcgraw i went to art school  ( hah ) \n yeah the lights is bright but i got a short fuse  ( woah ) \n don't snooze  ( no ) \n been handling the game so long my thumbs bruised \n your new girlfriend is old news \n you ain't got enough green and she so blue yeah  ( aww ) \n cash money records where dreams come true  ( yes ) \n everything is easy baby leave it up to weezy baby \n put it in the pot let it steam let it brew  ( yes ) \n now watch me melt don't burn yourself 'cause \n [ chorus ] \n i'm the fireman  ( yeah )  fire f-fireman  ( yeah ) \n i got that fire i'm hollering  ( yeah ) \n i got that fire come and try me and  ( yeah ) \n you can spark it up and i'ma put you out  ( i got 'em get 'em ) \n you can spark it up and i'ma put you out  ( i got 'em ) \n \n [ verse 3 ] \n yeah riding by myself well really not really  ( well ) \n so heavy in the trunk make the car pop a wheelie \n who weezy baby or call me young baby  ( yeah ) \n my money three-sixty you only one-eighty  ( that's right ) \n half of the game too lazy  ( yeah ) \n still sleeping on me but i'm 'bout to wake 'em yep \n i'm 'bout to take 'em to new orleans and bake 'em  ( woah ) \n yeah it's hot down here take a walk with satan yeah  ( hot ) \n come on mama let the carter make you  ( yeah ) \n toss you like a fruit salad strawberry grape you  ( yeah ) \n they ball when they can and i'm balling by nature  ( yeah ) \n addicted to the game like jordan and payton  ( come on ) \n y'all in the race and me i'm at the finish line  ( uh-huh ) \n been running for too long it's time to give me mine  ( uh-huh ) \n straight down your chimney in your living room it's i  ( who ) \n weezy allergic to wintertime hot \n \n [ chorus ] \n i'm the fireman  ( yeah )  fire f-fireman  ( yeah ) \n i got that fire i'm hollering  ( yeah ) \n i got that fire come and try me and  ( yeah ) \n you can spark it up and i'ma put you out  ( i got 'em get 'em ) \n you can spark it up and i'ma put you out  ( i got 'em ) \n [ outro ] \n yeah i-i-i-i-i got 'em \n i-i-i-i-i got 'em \n ayy ayy b i got 'em \n ayy ayy d i got 'em \n yeah ayy slim i got 'em \n yeah don't worry 'cause i i i \n i don't worry 'cause i i i-i-i \n i'ma put you out",
                  "rap"
                ],
                [
                  "66",
                  "58",
                  "A Star Is Born",
                  "JAY-Z",
                  "[ hook the world famous tony williams + jay-z ] \n every day a star is born  ( and you say new york city yeah yeah ) \n clap for 'em clap for 'em clap for 'em hey \n every day a star is born  ( and you say new york city uh-huh ) \n clap for 'em clap for 'em clap for 'em hey \n \n [ verse 1 jay z ] \n i seen mase do it i seen 'ye do it \n 'x came through caught lighter fluid \n still i came through it clap for him \n but i’m the blueprint i'm like the map for 'em \n i dropped another classic made puff pass it \n nobody could touch puff back when puff had it \n wayne scorching i'll applaud him \n if he keep going pass the torch to him \n fifty came through like hurricanes do \n i thought i finished his ass at summer jam too \n i had the illmatic on bootleg \n the shit was so ahead thought we was all dead \n wayne did \"a milli\" fifty did a milli \n 'ye too but what em did was silly \n the white boy blossomed after dre endorsed him \n his flow on \"renegade\" fucking awesome \n applaud him \n [ hook the world famous tony williams + jay-z ] \n every day a star is born  ( and you say new york city ) \n clap for 'em clap for 'em clap for 'em hey \n every day a star is born  ( and you say new york city uh-huh jay ) \n clap for 'em clap for 'em clap for 'em hey \n \n [ verse 2 jay-z ] \n snoop dogged it nelly came down \n the face mob kept it ghetto for the h-town \n luda moved digits after he moved bitches \n drake's up next see what he do with it  ( uh-huh ) \n rule had a run couple movie parts \n ti literally wanted to shoot up the charts \n what up jeezy what it do \n y’all remind me of us in early '92  ( uh-huh ) \n outkast landed 3-thou was ill \n like a male version of lauryn hill \n mobb deep shook it but prodigy took it \n a lil' too far can't fuck with brooklyn \n wu-tang gangbanged it meth ate \n rae took on the date with the purple tape \n passed on to ason and then ghostface \n they had a hell of a run standing ovay' ayy \n \n [ hook the world famous tony williams + jay-z ] \n every day a star is born \n clap for 'em clap for 'em clap for 'em hey \n every day a star is born  ( uh-huh jay ) \n clap for 'em clap for 'em clap for 'em hey \n [ verse 3 jay-z ] \n and i am one of one \n can’t you see just how long my run \n my reign lulu's son-shine \n been a star since i was ducking one-time \n one time give it up for him \n december 4th a star was born \n clap for him he went from moving that corner \n to this corner office it's so enormous \n hey \n prez' carter watching her get her monica on all day \n hey got so many different monikers but only one jay \n they come they go \n some real some faux \n some friends some hoes \n but no i goes nowhere this hov' \n \n [ hook the world famous tony williams + jay-z ] \n every day a star is born  ( and you say new york city ) \n clap for 'em clap for 'em clap for 'em hey \n every day a star is born  ( and you say new york city uh-huh yeah ) \n clap for 'em clap for 'em clap for 'em hey \n \n [ verse 4 j cole ] \n and could i be a star \n does fame in this game have to change who you are \n or could i be the same one who came from a far-away life \n just to make it in these broadway lights \n now i'm shining in the broad daylight—go figure \n a slow transition from a lil' broke nigga from the 'ville \n got a deal a real lifesaver \n dreams of being behind the wheel like jada \n i chill now cop a lil' ice later \n cole you got the glow like a lil' lightsaber \n so clap for him \n then applaud hov he gave him a platform \n flow so sick thought he wrote the rap for him—no sir \n the flow cold as the shoulders of gold-digging hoes when a broke nigga 'proaches \n told you i’m focused man \n i’ll let you motherfuckers soak it in and clap for 'em \n [ hook the world famous tony williams jay-z & j cole ] \n every day a star is born  ( and you say new york city ) \n yeah hey and clap for 'em \n hey hey and clap for 'em \n clap for 'em clap for 'em \n i'm here now fayettenam \n clap for 'em clap for 'em ayy  ( j cole ) \n every day a star is born",
                  "rap"
                ],
                [
                  "95",
                  "86",
                  "All Falls Down",
                  "Kanye West",
                  "[ chorus syleena johnson & kanye west ] \n oh when it all it all falls down \n yeah this the real one baby \n i'm telling you all it all falls down \n uh chi-town stand up \n oh when it all it all falls down \n southside southside \n we gon' set this party off right \n i'm telling you all it all falls down \n westside westside \n we gon' set this party off right \n oh when it all \n \n [ verse 1 kanye west ] \n man i promise she's so self-conscious \n she has no idea what she doing in college \n that major that she majored in don't make no money \n but she won't drop out her parents'll look at her funny \n now tell me that ain't insecurr \n the concept of school seems so securr \n sophomore three yurrs ain't picked a carurr \n she like \"fuck it i'll just stay down hurr and do hair\" \n 'cause that's enough money to buy her a few pairs \n of new airs 'cause her baby daddy don't really care \n she's so precious with the peer pressure \n couldn't afford a car so she named her daughter alexis \n she had hair so long that it looked like weave \n then she cut it all off now she look like eve \n and she be dealing with some issues that you can't believe \n single black female addicted to retail and well \n [ chorus syleena johnson & kanye west ] \n oh when it all it all falls down \n and when it falls down who you gon' call now \n i'm telling you all it all falls down \n c'mon c'mon and when it falls down \n oh when it all \n \n [ verse 2 kanye west ] \n man i promise i'm so self-conscious \n that's why you always see me with at least one of my watches \n rollies and pashas done drove me crazy \n i can't even pronounce nothing pass that ver-say-see \n then i spent four hundred bucks on this \n just to be like \"nigga you ain't up on this\" \n and i can't even go to the grocery store \n without some ones that's clean and a shirt with a team \n it seem we living the american dream \n but the people highest up got the lowest self-esteem \n the prettiest people do the ugliest things \n for the road to riches and diamond rings \n we shine because they hate us floss 'cause they degrade us \n we tryna buy back our 40 acres \n and for that paper look how low we'll stoop \n even if you in a benz you still a nigga in a coupe \n \n [ chorus syleena johnson & kanye west ] \n oh when it all it all falls down \n come on come on \n i'm telling you all it all falls down \n and when it falls down who you gon' call now \n oh when it all it all falls down \n come on come on \n i'm telling you all it all falls down \n and when it all falls down \n [ verse 3 kanye west ] \n i say \"fuck the police\" that's how i treat 'em \n we buy our way out of jail but we can't buy freedom \n we'll buy a lot of clothes but we don't really need 'em \n things we buy to cover up what's inside \n 'cause they made us hate ourself and love they wealth \n that's why shorty's hollerin' \"where the ballers at\" \n drug dealer buy jordan crackhead buy crack \n and the white man get paid off of all of that \n but i ain't even gon' act holier than thou \n 'cause fuck it i went to jacob with 25 thou \n before i had a house and i'd do it again \n ‘cause i wanna be on 106 & park pushing a benz \n i want to act ballerific like it's all terrific \n i got a couple past-due bills i won't get specific \n i got a problem with spending before i get it \n we all self-conscious i'm just the first to admit it \n \n [ chorus syleena johnson & kanye west ] \n oh when it all it all falls down \n c'mon c'mon \n and when it falls down who you gon' call now \n i'm telling you all it all falls down \n c'mon c'mon and when it falls down \n oh when it all it all falls down \n southside southside \n we gon' set this party off right \n i'm telling you all it all falls down \n westside westside \n we gon' set this party off right \n oh when it all it all falls down \n chi-town chi-town \n we gon' show 'em how we get down \n i'm telling you all it all falls down \n now syleena you just like a safe belt you saved my life \n c'mon \n oh when it all it all falls down \n i'm telling you all it all falls down \n [ produced by kanye west ]",
                  "rap"
                ],
                [
                  "112",
                  "103",
                  "Tha Crossroads D.J. U-Neeks Mo Thug Remix",
                  "Bone Thugs-N-Harmony",
                  "[ intro bone thugs-n-harmony ] \n bone bone bone bone \n bone bone bone bone bone \n now tell me what ya gonna do \n ( now tell me what ) \n when it ain't nowhere to run \n when judgment comes for you \n when judgment comes for you \n now tell me what ya gonna do \n ( now tell me what ) \n when it ain't nowhere to hide \n when judgment comes for you \n 'cause it's gonna come for you \n \n [ verse 1 bizzy bone ] \n dead souls nigga this for wally \n eazy c's uncle charlie \n little boo but god's got him \n and i'm gonna miss everybody \n i done rolled with blows like aids \n looked at him while he laid and prayed \n but destiny played too deep for me to say \n lil' layzie came to me \n told me if he should decease \"well then please \n bury me by my gran gran \n and when you can come follow me\" \n [ verse 2 layzie bone ] \n god bless you working on a plan to heaven \n follow the lord all 24/7 days \n god is who we praise \n even though the devil's all up in my face \n but he keeping me safe and in my place \n say grace to the gates we race \n without a chance to face the judge \n then i guess my soul won't budge \n grudge because there's no mercy for thugs \n ooh what could i do \n it's all about a family and how we roll \n can i get a witness let it unfold \n we living our lives to eternal our souls hey-o-ayo \n \n [ bridge krayzie bone ] \n pray and we pray and we pray \n and we pray and we pray \n every day every day every day every day \n and we pray and we pray \n and we pray and we pray \n still we lacin' \n \n [ verse 3 krayzie bone ] \n now follow me roll stroll \n whether it's hell or it's heaven \n come let's go take a visit to the people that's long gone they rest wally eazy terry boo \n and still keeping up with they family \n exactly how many days we got lastin' \n while you laughing we're passing passing away \n god rest our souls \n 'cause i know i might meet you up at the crossroads \n y'all know y'all forever got love from them bone thugs baby \n [ verse 4 wish bone ] \n lil eazy long gone \n really wish he could come home \n but when it's time to die gotta go bye bye \n all a lil' thug could do was cry cry \n why'd they kill my dawg \n damn man i miss my uncle charles y'all \n and he shouldn't be gone \n in front of his home what they did to boo was wrong \n oh so wrong was so wrong \n gotta hold on gotta stay strong \n when the day comes \n better believe bone got a shoulder you can lean on lean on \n \n [ bridge bone thugs-n-harmony ] \n pray and we pray and we pray \n and we pray and we pray \n every day every day every day every day \n and we pray and we pray \n and we pray and we pray \n \n [ chorus bone thugs-n-harmony ] \n see you at the crossroads crossroads crossroads \n so you won't be lonely \n see you at the crossroads crossroads crossroads \n so you won't be lonely \n see you at the crossroads crossroads crossroads \n so you won't be lonely \n see you at the crossroads crossroads crossroads \n so you won't be lonely \n [ post-chorus bizzy bone ] \n and i'm gonna miss everybody \n and i'm gonna miss everybody  ( long gone long gone ) \n and i'm gonna miss everybody  ( long gone ) \n and i'm gonna miss everybody  ( long gone ) \n and i'm gonna miss everybody  ( long gone long gone ) \n and i'm gonna miss everybody \n \n [ bridge 2 layzie bone ] \n living in a hateful world \n sending me  ( straight to heaven ) \n that's how we roll \n living in a hateful world \n sending me  ( straight to heaven ) \n that's how we roll \n living in a hateful world \n sending me  ( straight to heaven ) \n that's how we roll \n and i asked the good lord why \n he sighed he told me we live to die \n \n [ verse 5 krayzie bone ] \n what's up with that murder y'all \n see my little cousin was hung \n somebody really wrong anybody wanna test us dawg \n and ms sleazy set up eazy to fall \n you know while we sinnin' \n he intending on ending it when it ends \n he coming again and again and again \n now tell me what ya gonna do \n \n [ verse 6 wish bone ] \n can somebody anybody tell me why hey \n can somebody anybody tell me why \n we die we die \n i don't wanna die \n ( oh so wrong oh wrong oh so wrong oh wrong ) \n \n [ chorus bone thugs-n-harmony ] \n see you at the crossroads crossroads crossroads \n so you won't be lonely \n see you at the crossroads crossroads crossroads \n so you won't be lonely \n see you at the crossroads crossroads crossroads \n so you won't be lonely \n see you at the crossroads crossroads crossroads \n so you won't be lonely \n see you at the crossroads crossroads crossroads \n so you won't be lonely \n see you at the crossroads crossroads crossroads \n so you won't be lonely \n see you at the crossroads crossroads crossroads \n so you won't be lonely \n see you at the crossroads crossroads crossroads \n so you won't be lonely",
                  "rap"
                ],
                [
                  "126",
                  "131",
                  "Day ‘N’ Nite Nightmare",
                  "Kid Cudi",
                  "[ intro ] \n uh uh uh uh \n uh uh \n \n [ verse 1 ] \n day and night \n i toss and turn i keep stressing my mind mind \n i look for peace but see i don't attain \n what i need for keeps this silly game we play play \n now look at this \n madness the magnet keeps attracting me me \n i try to run but see i'm not that fast \n i think i'm first but surely finish last last \n \n [ chorus ] \n 'cause day and night \n the lonely stoner seems to free his mind at night \n he's all alone through the day and night \n the lonely loner seems to free his mind at night at at at night \n day and night \n the lonely stoner seems to free his mind at night \n he's all alone some things will never change \n the lonely loner seems to free his mind at night at at at night \n [ verse 2 ] \n hold the phone \n the lonely stoner mr solo dolo \n he's on the move can't seem to shake the shade \n within his dreams he sees the life he made made \n the pain is deep \n a silent sleeper you won't hear a peep peep \n the girl he wants don't seem to want him too \n it seems the feelings that she had are through through \n \n [ chorus ] \n 'cause day and night \n the lonely stoner seems to free his mind at night \n he's all alone through the day and night \n the lonely loner seems to free his mind at night at at at night \n day and night \n the lonely stoner seems to free his mind at night \n he's all alone some things will never change \n the lonely loner seems to free his mind at night at at at night \n \n [ verse 3 ] \n slow mo' \n when the tempo slows up and creates that new new \n he seems alive though he is feeling blue \n the sun is shining man he's super cool cool \n the lonely nights \n they fade away he slips into his white nikes \n he smokes a clip and then he's on the way \n to free his mind in search of to free his mind in search of \n to free his mind in search of \n [ chorus ] \n day and night \n the lonely stoner seems to free his mind at night \n he's all alone through the day and night \n the lonely loner seems to free his mind at night at at at night \n day and night \n the lonely stoner seems to free his mind at night \n he's all alone some things will never change \n the lonely loner seems to free his mind at night \n at at at night night \n at at at night night \n \n [ outro ] \n na-na-na-na-na-na kid cudi \n cleveland status riding all day \n cleveland status riding all night \n cleveland status riding all day \n cleveland status riding all night",
                  "rap"
                ],
                [
                  "171",
                  "169",
                  "Roc Boys And the Winner Is...",
                  "JAY-Z",
                  "[ produced by lv sean c and diddy ] \n \n [ intro jay-z ] \n and the winner is hov \n my man \n speech \n \n [ verse 1 jay-z ] \n first of all i wanna thank my connect \n the most important person with all due respect \n thanks to the duffle bag the brown paper bag \n the nike shoe box for holding all this cash  ( okay ) \n boys in blue who put greed before the badge  ( okay ) \n the first pusher who ever made the stash  ( okay ) \n the roc boys in the building tonight  ( hey ) \n oh what a feeling i'm feeling life  ( hey ) \n thanks to the lames niggas with bad aim \n thanks to a little change i tore you out the game \n bullet wounds will stop your buffoonery \n thanks to the pastor rapping at your eulogy \n to lil' kim and them you know the women-friend who \n carry the work cross state for a gentlemen \n yeah thanks to all the hustlers \n and most importantly you the customer \n [ chorus jay-z &  ( kanye west ) ] \n the roc boys in the building tonight  ( hey ) \n oh what a feeling i'm feeling life  ( hey ) \n you don't even gotta bring your paper out \n we the dope boys of the year drinks is on the house \n ( we in the house hou- hou- ) \n the roc boys in the building tonight \n look at how i'm chilling i'm killing this ice \n you don't even gotta bring ya purses out \n we the dope boys of the year drinks is on the house \n ( we in the house hou- hou- ) \n ( we in the house hou- hou- hey ) \n \n [ verse 2 jay-z ] \n let ya hair down baby i just hit a score \n pick any place on the planet pick a shore \n take what the forbes figured then figure more \n 'cause they forgot to account what i did with the raw \n pick a time let's pick apart some stores \n pick a weekend for freaking for figure fours \n i figure frauds never hit a lick before \n so they don't know the feeling when them things get across \n put ya hand out the window feel the force \n feel the porsche hit defrost \n ice-cold jewels got no flaws \n drop got no top you on the top floor \n pink rosé think oj \n i get away with murder when i sling yay \n her-on got less steps than britney \n that means it ain't stepped on dig me \n [ chorus jay-z &  ( kanye west ) ] \n the roc boys in the building tonight  ( hey ) \n oh what a feeling i'm feeling life  ( hey ) \n you don't even gotta bring your paper out \n we the dope boys of the year drinks is on the house \n ( we in the house hou- hou- ) \n the roc boys in the building tonight \n look at how i'm chilling i'm killing this ice \n you don't even gotta bring ya purses out \n we the dope boys of the year drinks is on the house \n ( we in the house hou- hou- ) \n ( we in the house hou- hou- hey ) \n \n [ verse 3 jay-z ] \n rare porsches rare portraits \n rare guns if you dare come near the fortress \n this apple sauce is from the apple orchard \n this kinda talk is only reserved for the bosses \n which means i get it from the ground \n which means you get it when i'm around \n rich niggas black bar mitzvahs \n mazel tov it's a celebration bitches \n \"l'chaim\" \n i wish for you a hundred years of success but it's my time \n cheers toast to crime \n number one d-boy shame he could rhyme \n [ chorus jay-z beyoncé cassie &  ( kanye west ) ] \n the roc boys in the building tonight  ( hey ) \n oh what a feeling i'm feeling life  ( hey ) \n you don't even gotta bring your paper out \n we the dope boys of the year drinks is on the house \n ( we in the house hou- hou- ) \n the roc boys in the building tonight \n look at how i'm chilling i'm killing this ice \n you don't even gotta bring ya purses out \n we the dope boys of the year drinks is on the house \n ( we in the house hou- hou- ) \n ( we in the house hou- hou- hey ) \n the roc boys in the building tonight  ( hey ) \n oh what a feeling i'm feeling life  ( hey ) \n you don't even gotta bring your paper out \n we the dope boys of the year drinks is on the house \n ( we in the house hou- hou- ) \n the roc boys in the building tonight \n look at how i'm chilling i'm killing this ice \n you don't even gotta bring ya purses out \n we the dope boys of the year drinks is on the house \n ( we in the house hou- hou- ) \n ( we in the house hou- hou- hey ) \n the roc boys in the building tonight  ( hey ) \n oh what a feeling i'm feeling life  ( hey ) \n you don't even gotta bring your paper out \n we the dope boys of the year drinks is on the house \n ( we in the house hou- hou- ) \n the roc boys in the building tonight \n look at how i'm chilling i'm killing this ice \n you don't even gotta bring ya purses out \n we the dope boys of the year drinks is on the house \n ( we in the house hou- hou- ) \n ( we in the house hou- hou- hey ) \n \n [ outro jay-z ] \n sweet \n let that ride out \n bring the horns back in yeah \n this is black superhero music right here baby \n american gangster \n taking flight coming to a town near you \n soon as i touch down i just want y'all to start playing the horns like \n hovi's home \n lukey baby \n hahahahaha oww",
                  "rap"
                ],
                [
                  "176",
                  "177",
                  "2009 BET Hip Hop Awards - Cypher 3",
                  "BET",
                  "[ intro mos def ] \n peace welcome to this cypher black dante black thought eminem we in brooklyn i gotta do this for brooklyn listen real quick yo \n \n [ verse 1 mos def ] \n for sinners saints and scramblers \n and gamblers and dirty money handlers \n dignitaries and champions narcotic traffickers \n talented number runners and racketeers \n stars of stage page and cameras \n slang swingers and swaggerers \n double barrels and derringers automatics and miracles \n europe asia and africa all the time in america \n atlantic ashland albemarle to albany \n bridge into baltic bedford ave bergen street \n clinton to cadman church ave to clarendon \n road to central avenue cooper house cypress \n and live from bedford-stuyvesant the livest \n high flyingest pilot bombardier from pyrrhus \n stationed live and direct medina mastermind set \n ya can't lock my set now lock off cool \n peace to the nation of the gods and the earths \n and the sun moon and stars furthermore born knowledge \n go hard \n [ verse 2 black thought ] \n uh yeah yeah check it out remix \n rising up out of the flames like a phoenix \n straining to carry the weight of my brain like a genius \n knowing i'm sowing seeds let's see whose thumb is the greenest \n if i said it i mean it and did it because i need it \n eat sleep it and bleed it write it down and then read it \n asphalt to the cement your trash talk is deleted \n blastoff i lay 'em out like a tempurpedic \n black thought i told you i'ma win eventually \n this unsung underrated underappreciated \n the one them underachievers had underestimated \n finally graduated from something that's so hated \n to one of the most sacred nobody gon' take it face it \n i keep doing it well doing it sans assistance \n is do it yourself doing it below the radar \n we doing it stealth doing it again \n for illadelph and who else but check it out \n y'all see him on a job see my eyes focused where the prize be \n i'm like martin luther king you like rodney \n the difference is i give it everything inside me \n dear diary my fans still swear by me \n even though i'm late night now like here's johnny \n swimming with them great whites now is how to find me \n funny how it break right down but never mind me \n i'm forever grimy guess it's just philly shinin' \n rock rolla bi-polar like phyllis hyman \n [ verse 3 eminem ] \n like a dope fiend opening up a bottle of dopamine \n you're just hoping he don’t get rope for your throat to choke anything \n oh and just think how dope he could be if he smoked anything \n oh there goes the bell the sound of the opening ding \n i hit you as hard as barbiturates in the ribs \n with a switch and stitch you at the same time before you can flinch to it \n my **** is so big if i add another inch to it \n you would swear when i ***** you that you was actually into it \n i'm not a baller but you can bet your fucking bottom dollar \n that i remember when i was without a dollar bill in my wallet \n now watch me kill a koala while i maul a chihuahua \n bum a pill off of paula like \"let me holler at you mama\" \n it's like i'm off the bombom when i bring the ******' drama \n used to bomb ya like saddam but now that i'm a little calmer \n i'm a ******' cross between osama dahmer obama \n and dalai lama \n tell miley i'm a knight in shining armor \n mail a gift to taylor swift's trailer a picture of my genitalia \n with a note sayin' \"***** i can't wait to **** ya\" \n drug paraphernalia beware the werewolf will kill ya \n that's him in his sheep's clothes he just shaved his hair off cecilia",
                  "rap"
                ],
                [
                  "181",
                  "181",
                  "Hard Knock Life Ghetto Anthem",
                  "JAY-Z",
                  "[ produced by mark the 45 king ] \n \n [ intro ] \n take the bass line out \n uh-huh jigga \n uh-huh uh-huh uh-huh yeah \n let it bump though \n \n [ chorus ] \n it's the hard knock life for us \n it's the hard knock life for us \n instead of treated we get tricked \n instead of kisses we get kicked \n it's the hard knock life \n \n [ verse 1 ] \n from standing on the corners boppin' \n to driving some of the hottest cars new york has ever seen \n from dropping some of the hottest verses rap has ever heard \n from the dope spot with the smoke glock \n fleeing the murder scene you know me well \n from nightmares of a lonely cell my only hell \n but since when y'all niggas know me to fail fuck naw \n where all my niggas with the rubber grips bust shots \n and if you with me mama rub on your tits and what-not \n i'm from the school of the hard knocks you must not \n let outsiders violate our blocks and my plot \n let's stick up the world and split it 50/50 uh-huh \n let's take the dough and stay real jiggy uh-huh \n and sip the cris' and get pissy-pissy \n flow infinitely like the memory of my nigga biggie baby \n you know it's hell when i come through \n the life and times of shawn carter nigga volume 2 \n y'all niggas get ready \n [ chorus ] \n it's the hard knock life for us \n it's the hard knock life for us \n instead of treated we get tricked \n instead of kisses we get kicked \n it's the hard knock life \n \n [ verse 2 ] \n i flow for those 'dro'ed out \n all my niggas locked down in the 10 by four controlling the house \n we live in hard knocks \n we don't take over we borrow blocks \n burn 'em down and you can have it back \n daddy i'd rather that \n i flow for chicks wishing they ain't have to strip to pay tuition \n i see your vision mama \n i put my money on the longshots \n all my ballers that's born to clock \n know i'ma be on top whether i perform or not \n i went from lukewarm to hot \n sleeping on futons and cots to king size \n green machines to green 5's \n i've seen pies let the thing between my eyes analyze life's ills \n then i put it down type braille \n i'm tight grill with the phony \n rappers y'all might feel we homies \n i'm like \"still y'all don't know me\" \n shit i'm tight grill when my situation ain't improvin' \n i'm tryna murder everything movin' – feel me \n [ chorus ] \n it's the hard knock life for us \n it's the hard knock life for us \n instead of treated we get tricked \n instead of kisses we get kicked \n it's the hard knock life \n it's the hard knock life for us \n it's the hard knock life for us \n instead of treated we get tricked \n instead of kisses we get kicked \n it's the hard knock life \n \n [ verse 3 ] \n i don't know how to sleep i gotta eat stay on my toes \n got a lotta beef so logically i prey on my foes \n hustling is still inside of me and as far as progress \n you'd be hard-pressed to find another rapper hot as me \n i gave you prophecy on my first joint and y'all lamed out \n didn't really appreciate it 'til the second one came out \n so i stretched the game out etched your name out \n put jigga on top and dropped albums non-stop for ya nigga \n \n [ chorus ] \n it's the hard knock life for us \n it's the hard knock life for us \n instead of treated we get tricked \n instead of kisses we get kicked \n it's the hard knock life",
                  "rap"
                ],
                [
                  "219",
                  "216",
                  "Get It In Ohio",
                  "Cam'ron",
                  "[ intro ] \n what up midwest \n they forgot about the fourth coast \n it ain't nothing though \n what up arkansas minnesota kansas \n kentucky missouri everybody in the lou' \n \n [ verse 1 ] \n thinking bout guy fisher \n never met him but god damn that's my nigga \n i figure real estate invested pie flipper \n never snitch me i'm in a bathrobe fly slippers  ( i-80 ) \n left chicago with good money for 5 drops \n westside did the southside like the white sox  ( what up stony island ) \n van buren pulaski k-town is contra  ( westside ) \n they'll dearly depart ya in front of macarthur's  ( what up madison ) \n i'm the author for gangsters tough guys \n did the whole ohio but i started off a buckeye \n columbus to 'nati them towns i raped 'em \n few clowns was hating moved my pounds to dayton \n and in akron my niggas they would throw things \n not king james these were coke kings \n and you acting grown doggy you ain't back at home \n the smack it's on wrapped in chrome \n you better get a chaperone \n [ hook ] \n if you know like i know you should lie low \n killa i used to get it in ohio \n don't forget the chi though guns are like a pyro \n you keep playing you will look like a gyro \n \n [ verse 2 ] \n go 'head and hate me hater \n cause i'm flyer than a aviator \n well you'll get smacked with the radiator \n and i get catered player \"wanna talk\" \"maybe later\" \n told her her time was up '88 her flavor-flaved her \n need your neck choked rather your neck broke \n you dead broke yes folks the jewels are like egg yolks \n and you'll get yoked up switchblade-poked up \n bitch-made since 6th grade he need his rope cut \n cowboy roped up \"y'all boys sold what\" \n know what dope crack and coke is in the coat tucked \n roll up hold up family this a hold up \n get close up soaked up i'm kg post up \n ho slut no love turn beef to cold cuts \n family getting bread well he about to get his loaf cut \n y'all doped up this game is sewed up \n malcolm x tell the white bitch \"yo i want my toes sucked\" \n \n [ hook ] \n if you know like i know you should lie low \n killa i used to get it in ohio \n don't forget the chi though guns are like a pyro \n you keep playing you will look like a gyro \n [ verse 3 ] \n i'd rather be judged by 12 than carried by 6 \n my 12 and 12 -- well they carry my bricks \n and them 12-12 fiends they're married to sniff \n and the v12 that's on various trips \n y'all make a brother laugh me i took another path \n come into my habitat hovercrafts bubble baths \n duffle bags stuffed with cash fell in love with math \n i got the green benz red range mustard jag \n white coke tan dope black gun trey deuce \n silver bullets purple piff blue pills grey goose \n pull out the rat-tat-tat \n duck duck say goose \n beige coupe suede roofs send him up to jesús  ( jesus ) \n h-deuce yea yea piss off the state troops \n see me then they don't i disappear say \"poof\" \n play zeus homeboy get a replaced tooth \n not pac mean dust when a nigga say \"juice\" \n killa",
                  "rap"
                ],
                [
                  "225",
                  "220",
                  "Labor",
                  "Aesop Rock",
                  "\"this is labor\" {*echoes*} \n {*sample cut and scratched*} \n \n who put the monkey wrench in well-oiled perfectionist emblem \n just to watch these monitors spit white noise through your office space \n automater i infect jolly gene pool descendant clown-clusters \n brushing dust mites off your starving art revolution sound jugglers \n delinquent friend from brick habitat \n bob weave stick move fence \n and pause somewhere in the middle for slick invention \n this years brain crops spread spectacular i ain't mad at ya \n don't stay mad at the caliber  ( i twist characters like twist characters ) \n tally up the alley cat aggression in this doug e fresh infested \n mess of bass line lust and automatic b-boy krylon can combust circuit \n working these war pig cyphers with ted striker stability \n and kamikaze chivalry \n i alone noble in a worm food feud \n walking dead generation \n ain't nobody asking for your patience \n the grand opening holding me to face the fact \n i knew myself and didn't have to ask nobody else \n ( talk about labor ) \n fantastic planet urchin putting work in \n searching for pertinent verse minus the murderous diversion \n apologies won't lure me to the communal sob story \n nor will i sacrifice live style to benefit jury temperament \n this old green goblin web cutter butts up against \n crayola daydream landscape spitting bedlam dead 'em \n charge the villagers nickels and nicotine to watch him fed to \n one disgruntled kraken at high noon \n we'll sell popcorn beer and balloons \n i got an inkling this gon' be the one the children bicker over \n it's that warriors vs baseball fury element \n to glitch his motor sensory development \n i am a star really \n that big bang bastard's back with a one-way ticket to beat street \n this all is like relevant to human kind supply/demand ratios man learn it \n i work past the surface \n i work on what i love i work to service all my burdens \n and i'll work until this here little flat line closes the curtains",
                  "rap"
                ],
                [
                  "242",
                  "232",
                  "Lets Go From Me to U",
                  "Juelz Santana",
                  "[ marvin gaye sample ] \n i've been really trying baby \n trying to hold back these feelings for so long \n and if you feel like i feel baby \n c'mon ohhhh c'mon woo \n let's get it on \n \n [ little boy ] \n let's get it on nigga \n \n [ intro cam'ron ] \n aww man let's get it on man \n santana you on ya own man \n hold the set down \n we can get it on \n let's do it man dipset \n we got these bastards man let's do it \n \n [ verse 1 juelz santana & sample ] \n uh you niggas dealing with a g from the block \n yeah it's me from the block \n quick to tell a nigga let's get it on \n but i don't really like to beef on the block \n that brings heat to the block \n i got to eat on the block nigga \n yeah you dealing with a pimp from the hood \n keep a chick from the hood \n quick to tell her ay let's get it on \n come on let's go \n i'm trying to do it so ay let's get it on \n i'm one hell of a guy \n fly pelican fly \n like scarface one hell of a high shit \n one hell of a ride that i drive \n 23's look like propellers on side \n who stunting like me \n who fronting like me \n who did it who get it \n who done it like me you \n who wishing who fronting who want it from me you \n come get it you want it it's nothing to me \n and you chumps already know how i feel \n when it comes to the pump and the steel \n it's like let's get it on \n [ chorus cam'ron ] \n you know what these wild boys tote \n tie em up with the cowboy ropes \n so let's get it on \n hey ma back that ass up \n looking back  [ i ]  almost crashed up \n so let's get it on \n \n [ verse 2 juelz santana & sample ] \n man you dudes can get it \n that's my word to the slant on my houston fitted \n i send rockets at you dudes and midgets \n send cock up in you goose and pigeons \n so let's get it on \n i know you like that mama \n i'll be right back mama \n so let's get it on \n yeah do you believe me \n don't you believe me \n won't you believe me \n come let's get it on \n on any given sunday or any given monday \n we headed up the runway \n uptown yeah we headed up a one-way \n her head is in my lap \n so i let her do her one thing \n she was jamaican so i fed her bread and dumplings \n veggie pads and rum cake \n told her let's get it on \n said she's 18 and lived crazy just like me \n '80s baby just like me so let's get it on \n [ chorus cam'ron ] \n hey baby you know what your boy holds \n all night long pipe long strokeslet's get it on \n hey ma roll with the winners \n and i ain't talking dinner \n i'm like let's get it on \n \n [ verse 3 juelz santana & sample ] \n man i roll through stroll through \n flag on the ride side of my whole crew \n screaming let's get it on \n they'll get you they'll twist you \n they'll split your whole body in half then dismiss you \n like let's get it on \n but i'm looking for a bad lil mama \n get mad like her papa got an ass like her mama \n got her own won't ask for a dollar \n go half on a scama and i laugh when i holla let's get it on \n \n [ chorus cam'ron ] \n hey baby the ride on this chrome \n just provide us with dome so let's get it on \n you must be used to me spending \n hey ma if you give good brain you'll get your dipset chain \n lights out nothing to fight 'bout \n got the pipe out so let's get it on \n ( it's the only thing to do i mean it's only right )",
                  "rap"
                ],
                [
                  "243",
                  "233",
                  "In da Club",
                  "50 Cent",
                  "[ produced by dr dre & mike elizondo ] \n \n [ intro ] \n go go go go go go \n go shawty it's your birthday \n we gon' party like it's your birthday \n and we gon' sip bacardi like it's your birthday \n and you know we don't give a fuck it's not your birthday \n \n [ chorus ] \n you can find me in the club bottle full of bub' \n look mami i got the x if you into taking drugs \n i'm into having sex i ain't into making love \n so come give me a hug if you into getting rubbed \n you can find me in the club bottle full of bub' \n look mami i got the x if you into taking drugs \n i'm into having sex i ain't into making love \n so come give me a hug if you into getting rubbed \n \n [ verse 1 ] \n when i pull up out front you see the benz on dubs  ( uh-huh ) \n when i roll twenty deep it's twenty nines in the club  ( yeah ) \n niggas heard i fuck with dre now they wanna show me love \n when you sell like eminem and the hoes they wanna fuck  ( woo ) \n look homie ain't nothing changed hoes down g's up \n i see xzibit in the cut hey nigga roll that weed up  ( roll it ) \n if you watch how i move you'll mistake me for a player or pimp \n been hit with a few shells but i don't walk with a limp  ( i'm aight ) \n in the hood in la they sayin' \"50 you hot\"  ( uh-huh ) \n they like me i want 'em to love me like they love pac \n but holla in new york the niggas'll tell you i'm loco  ( yeah ) \n and the plan is to put the rap game in a chokehold  ( uh-huh ) \n i'm fully focused man my money on my mind \n got a mil' out the deal and i'm still on the grind  ( woo ) \n now shorty said she feeling my style she feeling my flow  ( uh-huh ) \n her girlfriend with her they bi and they ready to go  ( okay ) \n [ chorus ] \n you can find me in the club bottle full of bub' \n look mami i got the x if you into taking drugs \n i'm into having sex i ain't into making love \n so come give me a hug if you into getting rubbed \n you can find me in the club bottle full of bub' \n look mami i got the x if you into taking drugs \n i'm into having sex i ain't into making love \n so come give me a hug if you into getting rubbed  ( rubbed ) \n \n [ bridge ] \n my flow my show brought me the dough \n that bought me all my fancy things \n my crib my cars my clothes my jewels \n look nigga i done came up and i ain't changed  ( what what yeah ) \n \n [ verse 2 ] \n and you should love it way more than you hate it \n nigga you mad i thought that you'd be happy i made it  ( woo ) \n i'm that cat by the bar toasting to the good life \n you that faggot-ass nigga trying to pull me back right \n when my joint get to pumping in the club it's on \n i wink my eye at yo' bitch if she smiles she gone \n if the roof on fire let the motherfucker burn \n if you talking about money homie i ain't concerned \n i'ma tell you what banks told me \n \"cuz go 'head switch the style up \n if niggas hate then let them hate and watch the money pile up\" \n or we can go upside your head with a bottle of bub' \n they know where we fucking be \n [ chorus ] \n you can find me in the club bottle full of bub' \n look mami i got the x if you into taking drugs \n i'm into having sex i ain't into making love \n so come give me a hug if you into getting rubbed \n you can find me in the club bottle full of bub' \n look mami i got the x if you into taking drugs \n i'm into having sex i ain't into making love \n so come give me a hug if you into getting rubbed  ( ha-ha-ha-ha ) \n \n [ outro ] \n don't try to act like you don't know where we be neither nigga \n we in the club all the time nigga so pop pop off nigga \n g-unit",
                  "rap"
                ],
                [
                  "251",
                  "241",
                  "Keep Their Heads Ringin",
                  "Dr. Dre",
                  "[ intro dr dre ] \n yeah what up this is dr dre \n the party's going on \n thank god it's friday \n \n [ refrain krs-one ] \n ( buck buck buck buck booyakasha ) \n ( buck buck buck buck booyakasha ) \n ( buck buck buck buck booyakasha ) \n ( buck buck buck buck booyakasha ) \n \n [ hook dr dre ] \n keep their heads ringin' \n ( ring ding dong \n ring-a-ding ding ding dong ) \n keep their heads ringin' \n ( ring ding dong \n ring-a-ding ding ding dong ) \n \n [ verse 1 dr dre & nancy fletcher ] \n hey you sittin over there \n say what \n ( you better get up out of your chair ) \n that's right \n ( and work your body down ) \n yeah \n ( no time to funk around 'cause we gon' ) \n funk you right on up \n so get up get a move on and get your groove on \n it's the d-r-e the spectacular \n in a party i go for your neck so call me \"blacula\" \n as i drain a nigga's jugular vein \n and maintain to leave blood stains so don't complain \n just chill listen to the beats i spill \n keeping it real enables me to make another mil' \n still niggas run up and try to kill at will \n but get popped like a pimple so call me clearasil \n i wipe niggas off the face of the earth since birth \n i've been a bad nigga now let me tell you what i'm worth \n more than a stealth bomber i cause drama \n the enforcer music floats like a flying saucer \n or a 747 jet never forget \n i'm that nigga that keeps the hoes' panties wet \n the mic gets smoked once you hear the beat kick \n with grooves so funky they come with a speed stick \n so check the flavor that i'm bringin' \n the motherfucking d-r-e will keep they motherfucking heads ringin' \n [ hook dr dre ] \n ( ring ding dong \n ring-a-ding ding ding dong ) \n keep their heads ringin' \n ( ring ding dong \n ring-a-ding ding ding dong ) \n \n [ verse 2 dr dre ] \n 1 2 for the crew 3 4 for the dough \n 5 for the hoes  ( hoes )  6 7 8 for death row \n mad niggas about to feel the full effect of intellect \n so i can collect respect - plus a check \n now i fing to get into my mental \n will take care of this business i need to attend to 'cause my rent's due \n and this rap shit's my meal ticket \n so you god damn right i'm gonna kick it or get evicted \n i bring terror like stephen king \n a black casanova running niggas over like christine \n when i rock the spot with the flavor i got \n i get plenty of ass so call me an ass-tronaut \n as i blast past another nigga's ass that thought he was strong \n but i smoke him like grass just like cheech and chong \n when i flow niggas know it's time to take a hike \n 'cause i grab the mic and flip my tongue like a dyke \n i got rhymes to keep you enchanted \n produce a smokescreen with the funky green to keep your eyes slanted \n so check the flavor that i'm bringin' \n the motherfucking d-r-e will keep they motherfucking heads ringin' \n [ hook dr dre ] \n ( ring ding dong \n ring-a-ding ding ding dong ) \n keep their heads ringin' \n ( ring ding dong \n ring-a-ding ding ding dong ) \n \n [ bridge ] \n if you want to get on down \n you gotta get on down \n just get on down \n \n [ verse 3 dr dre ] \n debonair with flair i scare wear and tear \n without a care running shit as if i was a mayor \n but i ain't no politician no competition \n sending all opposition to see a mortician \n i'm up front never in the backdrop \n step on stage and get faded just like a flat-top \n your rhyme sounds like you bought 'em at stop 'n go \n dre came to wax you so just call me mop & glo \n many tried to but just can't rock with \n i'm 6'1\" 225 i'm pure chocolate \n your chances of jacking me are slim g \n 'cause i rock from summer until santa comes down the chimney \n ho ho ho and so as i continue to flow \n 'cause yo i'm just a fly negro \n so check the flavor that i'm bringin' \n the motherfucking d-r-e will keep they motherfucking heads ringin' \n [ hook dr dre ] \n ( ring ding dong \n ring-a-ding ding ding dong ) \n keep their motherfucking heads ringin' \n ( ring ding dong \n ring-a-ding ding ding dong ) \n keep their heads ringin' \n ( ring ding dong \n ring-a-ding ding ding dong ) \n keep their heads ringin' \n ( ring ding dong \n ring-a-ding ding ding dong ) \n yeah uh come on \n \n [ bridge ] \n if you want to get on down \n you gotta get on down \n just get on down \n if you want to get on down \n you gotta get on down \n just get on down \n \n [ outro ] \n i know you're bobbing your head \n 'cause i can see you \n i know you're bobbing your head \n 'cause i can see you \n you can't see me \n death row let me know you in the house  ( beyotch ) \n yeah that's right we out",
                  "rap"
                ],
                [
                  "255",
                  "247",
                  "Bouncin Back Bumpin Me Against The Wall",
                  "Mystikal",
                  "[ chorus 2x mystikal and pharrell ] \n you keep bumping me against the wall \n yeah i know i let you slide before \n but until you seen metrust me \n you ain't seen bouncing back \n \n [ verse 1 mystikal ] \n i really be throwing my words \n standing 'em up and jamming on the one \n that ain't nobody but neptunes bamming on the drum \n swift flip kicks landing from the tongue \n more dramatic than batman and robin ba na na na na na \n the one that be handling business be sharper than a thumb tack \n the one that be dropping these albums showing 'em how to come back \n and you gone respect me appreciate where i run at \n you ain't gone piss me off cause you sorry that you done that \n i gets meaner badder stronger and ferocious \n you don't even much want to see the rest \n i'm coming back mo' fearless mo' determined to fold the set \n i ain't even started yet \n so if you ain't ready you better get ready \n know i do it better when i'm being opposed \n ah stick ya chest out keep ya chin up \n and sometimes you gotta get knocked down to get up \n [ chorus 2x mystikal and pharrell ] \n you keep bumping me against the wall \n yeah i know i let you slide before \n but until you seen metrust me \n you ain't seen bouncing back \n \n [ verse 2 mystical ] \n no matter what happened that's only once it's shame on you \n you come up and here and do it again then its shame on me \n sometimes we be getting in trouble you didn't want learn \n sometimes we be getting so rude you ain't want see \n i accept my wages like the way that i fail \n i grow i take strides and but 'em under my belt \n i learned from you just like you learned from me \n i plead i pray for peace and perfect harmony \n somebody say fool you better keep on rapping \n stop that tripping causin it ain't gone happen \n i told them look you better mind yo business \n change yo' way of thinking and keep on living \n done started some trouble and you ain't been out since \n cause you stuck inside scared watching cnn \n just take the precaution so yo life a be better \n tell my friends to call me i ain't accepting no letters \n \n [ chorus 2x mystikal and pharrell ] \n you keep bumping me against the wall \n yeah i know i let you slide before \n but until you seen metrust me \n you ain't seen bouncing back \n [ verse 3 mystical ] \n oh you heard about it yeah you had to \n hmm-huh i know you change ya mind you ain't the only one with bad news \n i know that they made you feel strange huh \n you was right in the middle complaining and forgot what you was cryin bout \n it could be you time and it might be \n you can't do nothing about it its god will thats just how life be \n one day it hit 'cha then its gone \n and i'm serious and you ain't never even gone feel it until it hit home \n that's when the pain run sharper and deeper \n you ain't eat that's when the days feel slow and long \n i know you miss 'em so it's time to uplift 'em \n try to pick the pieces up and find a way to drive on \n i tell you the truth so don't lie to me \n get back satan don't bother me \n and that's the way its gotta be \n and when its over and done with i hope you proud of me \n \n [ chorus 2x mystikal and pharrell ] \n you keep bumping me against the wall \n yeah i know i let you slide before \n but until you seen metrust me \n you ain't seen bouncing back \n \n [ outro 2x mystikal and pharrel ] \n you keep bumpin’ me against the wall \n you keep bumpin’ me against the wall \n you keep bumpin’ me against the wall \n you ain’t seen bouncing back",
                  "rap"
                ],
                [
                  "257",
                  "249",
                  "Big Brother",
                  "Kanye West",
                  "[ produced by dj toomp ] \n \n [ intro ] \n stadium status \n \n [ chorus ] \n my big brother was big's brother \n used to be dame and biggs' brother \n who was hip hop brother who was no id friend \n no id my mentor now let the story begin \n \n [ verse 1 ] \n it's the hard knock life tour sellout \n picture us in the mall copping iceberg and yell out \"jigga\" \n yeah that's what we'll yell out yell out \n you know the name do i gotta spell out or tell 'bout \n j-a-y and 'ye so shy \n that he won't even step to his idol to say hi \n standing there like a mime and let the chance pass by \n back of my mind \"he could change your life \n with all these beats i did at least let him hear it \n at least you can brag to ya friends back at the gig\" \n but he got me out my momma crib \n then he help me get my momma a crib \n [ chorus ] \n big brother was big's brother \n used to be dame and biggs' brother \n who was hip hop brother who was no id friend \n no id my mentor now let the story begin begin \n let the story begin \n if you feel the way i feel why don't you wave your hands \n \n [ verse 2 ] \n fresh off the plane i'm off to baseline \n nothing handed out i'm 'bout to take mine \n 'round the same time of that blueprint 1 \n and these beats in my pocket was that blueprint for him \n i'd play my little songs in that old back room \n he'd bob his head and say \"damn oh that's you\" \n but by the black album i was blacking out \n partying sob's and we had packed a crowd \n big brother got his show up at madison square \n and i'm like \"yeah yeah we gon' be there\" but \n not only did i not get a chance to spit it \n carline told me i could buy two tickets \n i guess big brother was thinking a little different \n and kept little brother at bay at a distance \n but everything that i felt was more bogus \n only made me more focused only wrote more potent \n only thing i wanna know is why i get looked over \n i guess i'll understand when i get more older \n big brother saw me at the bottom of the totem \n now i'm on the top and everybody on the scrotum \n [ chorus ] \n my big brother was big's brother \n used to be dame and biggs' brother \n who was hip hop brother who was no id friend \n no id my mentor now let the story begin begin \n let the story begin \n if you feel the way i feel why don't you wave your hands \n \n [ verse 3 ] \n have you ever walked in the shadow of a giant \n not only a client the presidito hola hovito \n the game getting foul so here's a free throw \n i was always on the other side of the peephole \n then i dropped \"jesus walks\" now i'm on the steeple \n and we know \"new jack city\"—got to keep my brother \n but to be number one i'ma beat my brother \n on that \"diamonds\" remix i swore i spazzed \n then my big brother came through and kicked my ass \n sibling rivalry only i could see \n it was the pride in me that was driving me \n at the grammys i said \"i inspired me\" \n but my big brother who i always tried to be \n when i kicked a flow it was like pick-and-roll \n 'cause even if he gave me the rock it's give-and-go \n i guess beanie's style was more of a slam dunk \n and my shit was more like a finger roll \n but i had them singles though \n and them hoes at the show gonna mingle yo heh y'all know \n i told jay i did a song with coldplay \n next thing i know he got a song with coldplay \n back in my mind i'm like \"damn no way\" \n translate español \"no way josé\" \n then i went and told jay brown \n shoulda known that was gon' come back around \n shoulda talked to you like a man shoulda told you first \n but i told somebody else and that's what made shit worse \n [ bridge ] \n my big brother was big's brother \n so here's a few words from ya kid brother \n if you admire somebody you should go on 'head tell 'em \n people never get the flowers while they can still smell 'em \n a idol in my eyes god of the game \n heart of the city roc-a-fella chain \n never be the same never be another \n number one young hov also my big brother \n \n [ chorus ] \n my big brother was big's brother \n used to be dame and biggs' brother \n who was hip hop brother who was no id friend \n no id my mentor and that's where the story ends \n \n [ outro ] \n toomp killed this shit",
                  "rap"
                ],
                [
                  "263",
                  "255",
                  "Keepin it Gangsta Remix",
                  "Fabolous",
                  "[ intro jadakiss & styles p ] \n d-block  ( true indeed ) \n double r  ( yes true indeed ) \n desert storm  ( true indeed ) \n sheek lou' where you at  ( haha true indeed ) \n ha-ha you know how we doing baby \n keeping it gangsta \n uh yeah uh yeah uh yo \n \n [ verse 1 jadakiss styles p & both ] \n how many men could you kill let me count all the bullets i got \n how many bricks could move you can say twenty a block \n how many niggas'll ride you could fill a football field \n how much money you got you'd think i signed a football deal \n my nigga give me the word i'ma kill that lame \n you know major league niggas play the kidnap game \n have the kid missing for days listen and pray \n and i'm kill six of your niggas six different ways \n and we still got xl rhymes still gangsta \n try to run up on the guy i'll send your legs to your mom \n and we still got kilos of coke \n ruff ryders to the death ride or die nigga we know the oath \n that's why i'm trying to send this metal through your head \n cause you got me curious you probably look better when you dead \n nine by the spine fifth in the holst' \n scum bag it's them d-block boys daddy kiss and the ghost \n coming through like \"the matrix\" in the a6 \n triple black leather six-speed with the gray stick \n give me the safe i'll spit at your face \n double clip in your mug then have sp hit it with mace \n and we just copped burners and do me i'll say this \n y'all little niggas looking up to me like the walls in green haven \n keep heat and we'll shank ya rob ya and say thank ya \n now that's keeping it gangsta \n [ hook fabolous ] \n y'all know who keeping it gangsta \n we come through keeping it gangsta \n y'all know how we do keeping it gangsta \n my whole crew keeping it gangsta \n \n [ verse 2 fabolous paul cain & both ] \n we your favorite gangstas' favorite gangstas and duke better bolt \n before these slugs sink in his waves like anchors \n we don't own clean guns all our skets is dirty \n i toss bullets new york niggas jet like testaverde \n i don't keep the scope on the ratchet for the dope i'll attach it \n make sure the joint aim point blank so they can't open your casket \n my whole crew got glocks on 'em \n in a hurry to shoot like they put shot clocks on 'em \n all that gossip you blast better see if they possibly has \n a v12 ambulance that get you to a hospital fast \n they let cain out the cages and shackles \n i ain't call a pager to track you i'm loading up gauges to whack you \n we been riding together and us back and forth \n it's like putting saddam hussein and bin laden together \n soon as you get a crumb they wanna bury ya \n that's why i travel with a semi like eddie in \"coming to america\" \n silencers it sound like it's humming when i'm airing ya \n won't know you hit 'til your body numbing in that area \n the kids don't want to see the toast to mom and daddy \n plus we rather be roasting trauma fatties in a toasted almond caddy \n and we come through with chains glisten and thangs spitting \n hollow shots'll leave your brain missing \n ghetto f-a-b and paul cain nigga \n we gettin heaps of complaints for keeping it gangsta \n [ hook fabolous ] \n y'all know who keeping it gangsta \n we come through keeping it gangsta \n y'all know how we do keeping it gangsta \n my whole crew keeping it gangsta \n \n [ verse 3 billy danze ] \n hey yo we represent them down ass niggas  ( okay ) \n mop  ( okay )  rip rounds at you clown ass niggas  ( all day ) \n bk nigga get up off snooze \n don't make me put your gangsta on the six o'clock news \n you ride in a what  ( what's up )  don't get it fucked up \n or twisted cause you'll get it twisted and fucked up \n and die in that truck  ( be cautious when you're walking through ) \n ( be careful who you talking to come straight home ) \n it's the livest motherfuckers of the century \n you niggas is killing me you got to be kidding me  ( aha aha ) \n ain't nobody taking it and making it extra like dust \n showing they ass on the record and bless it like gus \n now about them weak flows keep those we eat those \n as far as heat goes we keep those the street knows \n the mo  ( mo )  p is what's up \n we in the cut brownsville is heating it up come on \n \n [ verse 4 lil' fame ] \n fuck your ego i still spit lines at your bitch \n play cee-lo and spit 45s at your six \n you don't really wanna lose your life \n so i'ma smack flames out ya pick ya money up and roof ya dice \n yo you dun' know were we from soldier come soldier \n dump soldier you'll be found in your whip slumped over \n with your gangsta ass dead and you gone \n iced out chain out with ya brains out head on your horn \n you  ( you )  know  ( know )  who  ( who )  be keeping it gangsta \n with a truck full of goons that fakesta \n and the brownsville niggas from the past \n that run up put a hammer to ya gut and tell ya drop it in the bag \n you gangsta huh whatever  ( hahaha ) \n cause for real if i ever ever  ( what )  ever ever \n catch yo ass slipping i'ma pop a collar  ( boom ) \n whoa mack and when your bitch holla \n [ hook fabolous ] \n y'all know who keeping it gangsta \n we come through keeping it gangsta \n y'all know how we do keeping it gangsta \n my whole crew keeping it gangsta",
                  "rap"
                ],
                [
                  "276",
                  "259",
                  "Losin My Love",
                  "Juelz Santana",
                  "[ intro ] \n day by day i'm just losing it \n could it be i'm losing my love \n could it be i'm losing my love \n could it be i'm losing my love \n could it be i'm losing my love \n \n [ verse 1 ] \n okay people welcome me back \n it's been a hell of a year but i'm healthy and back \n long time no see huh where i been where i be huh \n in the street huh \n now i'm back to ride this horsey like \"yee-ha\" \n yee-ha yee-ha giddy up now \n to the sound of the touchdown a \n i just scored a touchdown yay \n and i sit in a déjà twisting the hay-ja \n i don't listen to rap i listen to 'dre i listen to \"hey ya\" \n i'm one hell of a fly hell of a guy who better than i \n nobody i'mma tell you that \n and believe me i never did lie so \n [ hook ] \n could it be i'm losing my love  ( for this rap shit ) \n could it be i'm losing my love  ( man i've had it ) \n could it be i'm losing my love  ( for this rap shit ) \n could it be i'm losing my love  ( damn i've had it ) \n \n [ verse 2 ] \n y'all labels got it all confused kid \n i'm not at all amused with \n the boring music y'all approving it's all some bullshit \n seems that y'all amused with \n everything that got to do with party music \n well i ain't in a damn partying mood \n but we could still party too \n just clap \n c'mon clap \n so steaming hot believe or not can't seem to stop nope \n til the day i get leaned and popped \n my breathing heart beating stop so \n \n [ hook ] \n \n [ verse 3 ] \n i might as well keep puffing my weed \n like this shit just means nothing to me \n and i'm what i call \"g's\" y'all what i call \"fleas\" \n y'all what i call \"sucker emcees\" \n so all y'all sucker emcees come along please class is startin' \n everybody raise your #2 pencil up now lay your #2 pencil down \n and that's your career after a year so glad that i'm here \n so glad to be here after a year but i've had it to here \n with all this faking rap shaking this you faking that \n homeboy you are fake and wack so please stop faking jack \n [ hook ]",
                  "rap"
                ]
              ],
              "shape": {
                "columns": 5,
                "rows": 20
              }
            },
            "text/html": [
              "<div>\n",
              "<style scoped>\n",
              "    .dataframe tbody tr th:only-of-type {\n",
              "        vertical-align: middle;\n",
              "    }\n",
              "\n",
              "    .dataframe tbody tr th {\n",
              "        vertical-align: top;\n",
              "    }\n",
              "\n",
              "    .dataframe thead th {\n",
              "        text-align: right;\n",
              "    }\n",
              "</style>\n",
              "<table border=\"1\" class=\"dataframe\">\n",
              "  <thead>\n",
              "    <tr style=\"text-align: right;\">\n",
              "      <th></th>\n",
              "      <th>id</th>\n",
              "      <th>title</th>\n",
              "      <th>artist</th>\n",
              "      <th>lyrics</th>\n",
              "      <th>tag</th>\n",
              "    </tr>\n",
              "  </thead>\n",
              "  <tbody>\n",
              "    <tr>\n",
              "      <th>4</th>\n",
              "      <td>6</td>\n",
              "      <td>Fly In</td>\n",
              "      <td>Lil Wayne</td>\n",
              "      <td>[ intro ] \\n so they ask me \\n \"young boy \\n w...</td>\n",
              "      <td>rap</td>\n",
              "    </tr>\n",
              "    <tr>\n",
              "      <th>32</th>\n",
              "      <td>26</td>\n",
              "      <td>A Milli</td>\n",
              "      <td>Fabolous</td>\n",
              "      <td>it's time to get money \\n i got a million reas...</td>\n",
              "      <td>rap</td>\n",
              "    </tr>\n",
              "    <tr>\n",
              "      <th>38</th>\n",
              "      <td>32</td>\n",
              "      <td>Suck My Dick</td>\n",
              "      <td>Lil' Kim</td>\n",
              "      <td>[ intro the notorious big ] \\n love me when i'...</td>\n",
              "      <td>rap</td>\n",
              "    </tr>\n",
              "    <tr>\n",
              "      <th>47</th>\n",
              "      <td>39</td>\n",
              "      <td>Fireman</td>\n",
              "      <td>Lil Wayne</td>\n",
              "      <td>[ intro ] \\n ( weezy baby ) \\n shh the fireman...</td>\n",
              "      <td>rap</td>\n",
              "    </tr>\n",
              "    <tr>\n",
              "      <th>66</th>\n",
              "      <td>58</td>\n",
              "      <td>A Star Is Born</td>\n",
              "      <td>JAY-Z</td>\n",
              "      <td>[ hook the world famous tony williams + jay-z ...</td>\n",
              "      <td>rap</td>\n",
              "    </tr>\n",
              "    <tr>\n",
              "      <th>95</th>\n",
              "      <td>86</td>\n",
              "      <td>All Falls Down</td>\n",
              "      <td>Kanye West</td>\n",
              "      <td>[ chorus syleena johnson &amp; kanye west ] \\n oh ...</td>\n",
              "      <td>rap</td>\n",
              "    </tr>\n",
              "    <tr>\n",
              "      <th>112</th>\n",
              "      <td>103</td>\n",
              "      <td>Tha Crossroads D.J. U-Neeks Mo Thug Remix</td>\n",
              "      <td>Bone Thugs-N-Harmony</td>\n",
              "      <td>[ intro bone thugs-n-harmony ] \\n bone bone bo...</td>\n",
              "      <td>rap</td>\n",
              "    </tr>\n",
              "    <tr>\n",
              "      <th>126</th>\n",
              "      <td>131</td>\n",
              "      <td>Day ‘N’ Nite Nightmare</td>\n",
              "      <td>Kid Cudi</td>\n",
              "      <td>[ intro ] \\n uh uh uh uh \\n uh uh \\n \\n [ vers...</td>\n",
              "      <td>rap</td>\n",
              "    </tr>\n",
              "    <tr>\n",
              "      <th>171</th>\n",
              "      <td>169</td>\n",
              "      <td>Roc Boys And the Winner Is...</td>\n",
              "      <td>JAY-Z</td>\n",
              "      <td>[ produced by lv sean c and diddy ] \\n \\n [ in...</td>\n",
              "      <td>rap</td>\n",
              "    </tr>\n",
              "    <tr>\n",
              "      <th>176</th>\n",
              "      <td>177</td>\n",
              "      <td>2009 BET Hip Hop Awards - Cypher 3</td>\n",
              "      <td>BET</td>\n",
              "      <td>[ intro mos def ] \\n peace welcome to this cyp...</td>\n",
              "      <td>rap</td>\n",
              "    </tr>\n",
              "    <tr>\n",
              "      <th>181</th>\n",
              "      <td>181</td>\n",
              "      <td>Hard Knock Life Ghetto Anthem</td>\n",
              "      <td>JAY-Z</td>\n",
              "      <td>[ produced by mark the 45 king ] \\n \\n [ intro...</td>\n",
              "      <td>rap</td>\n",
              "    </tr>\n",
              "    <tr>\n",
              "      <th>219</th>\n",
              "      <td>216</td>\n",
              "      <td>Get It In Ohio</td>\n",
              "      <td>Cam'ron</td>\n",
              "      <td>[ intro ] \\n what up midwest \\n they forgot ab...</td>\n",
              "      <td>rap</td>\n",
              "    </tr>\n",
              "    <tr>\n",
              "      <th>225</th>\n",
              "      <td>220</td>\n",
              "      <td>Labor</td>\n",
              "      <td>Aesop Rock</td>\n",
              "      <td>\"this is labor\" {*echoes*} \\n {*sample cut and...</td>\n",
              "      <td>rap</td>\n",
              "    </tr>\n",
              "    <tr>\n",
              "      <th>242</th>\n",
              "      <td>232</td>\n",
              "      <td>Lets Go From Me to U</td>\n",
              "      <td>Juelz Santana</td>\n",
              "      <td>[ marvin gaye sample ] \\n i've been really try...</td>\n",
              "      <td>rap</td>\n",
              "    </tr>\n",
              "    <tr>\n",
              "      <th>243</th>\n",
              "      <td>233</td>\n",
              "      <td>In da Club</td>\n",
              "      <td>50 Cent</td>\n",
              "      <td>[ produced by dr dre &amp; mike elizondo ] \\n \\n [...</td>\n",
              "      <td>rap</td>\n",
              "    </tr>\n",
              "    <tr>\n",
              "      <th>251</th>\n",
              "      <td>241</td>\n",
              "      <td>Keep Their Heads Ringin</td>\n",
              "      <td>Dr. Dre</td>\n",
              "      <td>[ intro dr dre ] \\n yeah what up this is dr dr...</td>\n",
              "      <td>rap</td>\n",
              "    </tr>\n",
              "    <tr>\n",
              "      <th>255</th>\n",
              "      <td>247</td>\n",
              "      <td>Bouncin Back Bumpin Me Against The Wall</td>\n",
              "      <td>Mystikal</td>\n",
              "      <td>[ chorus 2x mystikal and pharrell ] \\n you kee...</td>\n",
              "      <td>rap</td>\n",
              "    </tr>\n",
              "    <tr>\n",
              "      <th>257</th>\n",
              "      <td>249</td>\n",
              "      <td>Big Brother</td>\n",
              "      <td>Kanye West</td>\n",
              "      <td>[ produced by dj toomp ] \\n \\n [ intro ] \\n st...</td>\n",
              "      <td>rap</td>\n",
              "    </tr>\n",
              "    <tr>\n",
              "      <th>263</th>\n",
              "      <td>255</td>\n",
              "      <td>Keepin it Gangsta Remix</td>\n",
              "      <td>Fabolous</td>\n",
              "      <td>[ intro jadakiss &amp; styles p ] \\n d-block  ( tr...</td>\n",
              "      <td>rap</td>\n",
              "    </tr>\n",
              "    <tr>\n",
              "      <th>276</th>\n",
              "      <td>259</td>\n",
              "      <td>Losin My Love</td>\n",
              "      <td>Juelz Santana</td>\n",
              "      <td>[ intro ] \\n day by day i'm just losing it \\n ...</td>\n",
              "      <td>rap</td>\n",
              "    </tr>\n",
              "  </tbody>\n",
              "</table>\n",
              "</div>"
            ],
            "text/plain": [
              "      id                                      title                artist  \\\n",
              "4      6                                     Fly In             Lil Wayne   \n",
              "32    26                                    A Milli              Fabolous   \n",
              "38    32                               Suck My Dick              Lil' Kim   \n",
              "47    39                                    Fireman             Lil Wayne   \n",
              "66    58                             A Star Is Born                 JAY-Z   \n",
              "95    86                             All Falls Down            Kanye West   \n",
              "112  103  Tha Crossroads D.J. U-Neeks Mo Thug Remix  Bone Thugs-N-Harmony   \n",
              "126  131                     Day ‘N’ Nite Nightmare              Kid Cudi   \n",
              "171  169              Roc Boys And the Winner Is...                 JAY-Z   \n",
              "176  177         2009 BET Hip Hop Awards - Cypher 3                   BET   \n",
              "181  181              Hard Knock Life Ghetto Anthem                 JAY-Z   \n",
              "219  216                             Get It In Ohio               Cam'ron   \n",
              "225  220                                      Labor            Aesop Rock   \n",
              "242  232                       Lets Go From Me to U         Juelz Santana   \n",
              "243  233                                 In da Club               50 Cent   \n",
              "251  241                    Keep Their Heads Ringin               Dr. Dre   \n",
              "255  247    Bouncin Back Bumpin Me Against The Wall              Mystikal   \n",
              "257  249                                Big Brother            Kanye West   \n",
              "263  255                    Keepin it Gangsta Remix              Fabolous   \n",
              "276  259                              Losin My Love         Juelz Santana   \n",
              "\n",
              "                                                lyrics  tag  \n",
              "4    [ intro ] \\n so they ask me \\n \"young boy \\n w...  rap  \n",
              "32   it's time to get money \\n i got a million reas...  rap  \n",
              "38   [ intro the notorious big ] \\n love me when i'...  rap  \n",
              "47   [ intro ] \\n ( weezy baby ) \\n shh the fireman...  rap  \n",
              "66   [ hook the world famous tony williams + jay-z ...  rap  \n",
              "95   [ chorus syleena johnson & kanye west ] \\n oh ...  rap  \n",
              "112  [ intro bone thugs-n-harmony ] \\n bone bone bo...  rap  \n",
              "126  [ intro ] \\n uh uh uh uh \\n uh uh \\n \\n [ vers...  rap  \n",
              "171  [ produced by lv sean c and diddy ] \\n \\n [ in...  rap  \n",
              "176  [ intro mos def ] \\n peace welcome to this cyp...  rap  \n",
              "181  [ produced by mark the 45 king ] \\n \\n [ intro...  rap  \n",
              "219  [ intro ] \\n what up midwest \\n they forgot ab...  rap  \n",
              "225  \"this is labor\" {*echoes*} \\n {*sample cut and...  rap  \n",
              "242  [ marvin gaye sample ] \\n i've been really try...  rap  \n",
              "243  [ produced by dr dre & mike elizondo ] \\n \\n [...  rap  \n",
              "251  [ intro dr dre ] \\n yeah what up this is dr dr...  rap  \n",
              "255  [ chorus 2x mystikal and pharrell ] \\n you kee...  rap  \n",
              "257  [ produced by dj toomp ] \\n \\n [ intro ] \\n st...  rap  \n",
              "263  [ intro jadakiss & styles p ] \\n d-block  ( tr...  rap  \n",
              "276  [ intro ] \\n day by day i'm just losing it \\n ...  rap  "
            ]
          },
          "execution_count": 14,
          "metadata": {},
          "output_type": "execute_result"
        }
      ],
      "source": [
        "def fix_lyrics(lyrics):\n",
        "    parts = re.split(r\"([\\n\\[\\]\\(\\)])\", lyrics)\n",
        "    output = \" \".join(filter(None, parts))\n",
        "    output = re.sub(r\"([?.,!:;])\",'',output)\n",
        "    output = re.sub(r\"in'(?= \\w|\\.|,|$)\",\"ing\",output.lower())\n",
        "    return output\n",
        "\n",
        "print(f\"original database:{len(db)} songs\")\n",
        "subset = db.sample(frac=0.05)\n",
        "print(f\"subset:{len(subset)} songs\")\n",
        "\n",
        "subset[\"lyrics\"] = subset[\"lyrics\"].apply(fix_lyrics)\n",
        "subset = subset.sort_values(by=\"id\")\n",
        "subset.head(20)"
      ]
    },
    {
      "cell_type": "markdown",
      "metadata": {
        "id": "qSh85x_GIsvm"
      },
      "source": [
        "Taking 5% of our database leaves us with 646,000 songs which is still a substantial amount of data. Now that we have a smaller df, let's take a look at some metrics. The metrics of our subset should theorhetically be similar to metrics of our entire df since this is a selection of random songs from the larger df.\n",
        "\n",
        "Firstly, let's see a plot of how many words appear in our df to get an idea of how long our inputs to the AI are going to be. We can show this with a histogram."
      ]
    },
    {
      "cell_type": "code",
      "execution_count": 15,
      "metadata": {
        "execution": {
          "iopub.execute_input": "2023-11-14T18:34:27.295779Z",
          "iopub.status.busy": "2023-11-14T18:34:27.29513Z",
          "iopub.status.idle": "2023-11-14T18:34:39.258208Z",
          "shell.execute_reply": "2023-11-14T18:34:39.257115Z",
          "shell.execute_reply.started": "2023-11-14T18:34:27.295724Z"
        },
        "id": "nP6nzyNoIsvm",
        "trusted": true
      },
      "outputs": [
        {
          "data": {
            "text/plain": [
              "<Axes: >"
            ]
          },
          "execution_count": 15,
          "metadata": {},
          "output_type": "execute_result"
        },
        {
          "data": {
            "image/png": "[encoded data removed]",
            "text/plain": [
              "<Figure size 640x480 with 1 Axes>"
            ]
          },
          "metadata": {},
          "output_type": "display_data"
        }
      ],
      "source": [
        "subset['lyrics'].str.split().map(lambda x: len(x)).hist(range=[0, 1000],bins=20)"
      ]
    },
    {
      "cell_type": "markdown",
      "metadata": {
        "id": "msfOEhdYIsvm"
      },
      "source": [
        "Let's see how many words total our vocabulary will likely have. This is going to be a generous estimation using a subset just because of how unique each entry is, but it's still a valuable estimate. Common words and stop-words will make up the brunt of our vocabulary but there will be a lot of strange outliers that come from mispellings or intentionally incorrect spellings of words."
      ]
    },
    {
      "cell_type": "code",
      "execution_count": 16,
      "metadata": {
        "execution": {
          "iopub.execute_input": "2023-11-14T18:40:32.916954Z",
          "iopub.status.busy": "2023-11-14T18:40:32.916383Z",
          "iopub.status.idle": "2023-11-14T18:40:50.608923Z",
          "shell.execute_reply": "2023-11-14T18:40:50.607171Z",
          "shell.execute_reply.started": "2023-11-14T18:40:32.916909Z"
        },
        "id": "N-tVR8kCIsvm",
        "trusted": true
      },
      "outputs": [
        {
          "name": "stdout",
          "output_type": "stream",
          "text": [
            "342449\n"
          ]
        }
      ],
      "source": [
        "from collections import Counter\n",
        "total = len(Counter(\" \".join(subset[\"lyrics\"]).split()))\n",
        "print(total)"
      ]
    },
    {
      "cell_type": "markdown",
      "metadata": {
        "id": "ziX7J-8xIsvm"
      },
      "source": [
        "This vocabulary is quite large and the majority of it is typos, misspellings, and other strangely spelled words that only show up once in a song and never again. My personal favorite skimming through my version of the subset was \"coo-coo-cachoo.\" I really have to know what song that was a lyric in because that's mental.\n",
        "\n",
        "Next, let's see the most common words that appear in our data. Likely the top word is going to be \"`\\n`\" as it is the 'word' that separates lines in the lyrics, so we will be excluding these in our search. Symbols like brackets and parentheses are also likely to be common with the way we split it up in the previous cells, so we will also be ignoring those. Stop words are also bound to be extremely common, so we will be defining a list of common stop words to ignore. Finally we don't want to see instances of musical notations like `verse` and `chorus` if we want to get an accurate idea of the words our AI will be paying attention to."
      ]
    },
    {
      "cell_type": "code",
      "execution_count": 17,
      "metadata": {
        "execution": {
          "iopub.execute_input": "2023-11-14T18:45:26.400829Z",
          "iopub.status.busy": "2023-11-14T18:45:26.400245Z"
        },
        "id": "TI0qMWNmIsvm",
        "trusted": true
      },
      "outputs": [
        {
          "data": {
            "text/plain": [
              "4      ask \"young boy gon' second time around gon' co...\n",
              "32     time get money got million reasons better mill...\n",
              "38     notorious big love broke filthy fucking rich 1...\n",
              "47     weezy baby shh fireman comin' yeah yeah yeah y...\n",
              "66     hook world famous tony williams + jay-z every ...\n",
              "95     syleena johnson & kanye west oh falls yeah rea...\n",
              "112    bone thugs-n-harmony bone bone bone bone bone ...\n",
              "126    uh uh uh uh uh uh 1 day night toss turn keep s...\n",
              "171    produced lv sean c diddy jay-z winner hov man ...\n",
              "176    mos def peace welcome cypher black dante black...\n",
              "181    produced mark 45 king take bass line uh-huh ji...\n",
              "219    midwest forgot fourth coast ain't nothing thou...\n",
              "225    \"this labor\" {*echoes*} {*sample cut scratched...\n",
              "242    marvin gaye sample really trying baby trying h...\n",
              "243    produced dr dre & mike elizondo go go go go go...\n",
              "251    dr dre yeah dr dre party's going thank god fri...\n",
              "255    2x mystikal pharrell keep bumping wall yeah kn...\n",
              "257    produced dj toomp stadium status big brother b...\n",
              "263    jadakiss & styles p d-block true indeed double...\n",
              "276    day day losing could losing love could losing ...\n",
              "Name: lyrics, dtype: object"
            ]
          },
          "execution_count": 17,
          "metadata": {},
          "output_type": "execute_result"
        }
      ],
      "source": [
        "import nltk\n",
        "\n",
        "stopwords = nltk.corpus.stopwords.words('english')\n",
        "stopwords += (['[', ']', '(', ')', '`', 'verse', 'chorus', 'intro', 'outro','like','i\\'m','dat','da'])\n",
        "\n",
        "words = subset['lyrics'].apply(lambda x: ' '.join([word for word in x.split() if word not in (stopwords)]))\n",
        "\n",
        "words.head(20)"
      ]
    },
    {
      "cell_type": "code",
      "execution_count": 18,
      "metadata": {
        "execution": {
          "iopub.execute_input": "2023-11-14T18:44:41.388552Z",
          "iopub.status.busy": "2023-11-14T18:44:41.387966Z",
          "iopub.status.idle": "2023-11-14T18:44:54.203062Z",
          "shell.execute_reply": "2023-11-14T18:44:54.201877Z",
          "shell.execute_reply.started": "2023-11-14T18:44:41.388485Z"
        },
        "id": "-s-HK48eIsvm",
        "trusted": true
      },
      "outputs": [
        {
          "data": {
            "application/vnd.microsoft.datawrangler.viewer.v0+json": {
              "columns": [
                {
                  "name": "Word",
                  "rawType": "object",
                  "type": "string"
                },
                {
                  "name": "Frequency",
                  "rawType": "int64",
                  "type": "integer"
                }
              ],
              "conversionMethod": "pd.DataFrame",
              "ref": "53943c61-d02c-4a27-a444-9ab2d3442fdd",
              "rows": [
                [
                  "know",
                  "271255"
                ],
                [
                  "got",
                  "222640"
                ],
                [
                  "get",
                  "198695"
                ],
                [
                  "yeah",
                  "196818"
                ],
                [
                  "love",
                  "195797"
                ],
                [
                  "go",
                  "154414"
                ],
                [
                  "time",
                  "138825"
                ],
                [
                  "see",
                  "138529"
                ],
                [
                  "oh",
                  "137345"
                ],
                [
                  "never",
                  "136649"
                ],
                [
                  "one",
                  "129103"
                ],
                [
                  "back",
                  "118946"
                ],
                [
                  "want",
                  "118579"
                ],
                [
                  "make",
                  "111054"
                ],
                [
                  "can't",
                  "108147"
                ],
                [
                  "say",
                  "106163"
                ],
                [
                  "ain't",
                  "104395"
                ],
                [
                  "wanna",
                  "103195"
                ],
                [
                  "i’m",
                  "100590"
                ],
                [
                  "let",
                  "99333"
                ]
              ],
              "shape": {
                "columns": 1,
                "rows": 20
              }
            },
            "text/html": [
              "<div>\n",
              "<style scoped>\n",
              "    .dataframe tbody tr th:only-of-type {\n",
              "        vertical-align: middle;\n",
              "    }\n",
              "\n",
              "    .dataframe tbody tr th {\n",
              "        vertical-align: top;\n",
              "    }\n",
              "\n",
              "    .dataframe thead th {\n",
              "        text-align: right;\n",
              "    }\n",
              "</style>\n",
              "<table border=\"1\" class=\"dataframe\">\n",
              "  <thead>\n",
              "    <tr style=\"text-align: right;\">\n",
              "      <th></th>\n",
              "      <th>Frequency</th>\n",
              "    </tr>\n",
              "    <tr>\n",
              "      <th>Word</th>\n",
              "      <th></th>\n",
              "    </tr>\n",
              "  </thead>\n",
              "  <tbody>\n",
              "    <tr>\n",
              "      <th>know</th>\n",
              "      <td>271255</td>\n",
              "    </tr>\n",
              "    <tr>\n",
              "      <th>got</th>\n",
              "      <td>222640</td>\n",
              "    </tr>\n",
              "    <tr>\n",
              "      <th>get</th>\n",
              "      <td>198695</td>\n",
              "    </tr>\n",
              "    <tr>\n",
              "      <th>yeah</th>\n",
              "      <td>196818</td>\n",
              "    </tr>\n",
              "    <tr>\n",
              "      <th>love</th>\n",
              "      <td>195797</td>\n",
              "    </tr>\n",
              "    <tr>\n",
              "      <th>go</th>\n",
              "      <td>154414</td>\n",
              "    </tr>\n",
              "    <tr>\n",
              "      <th>time</th>\n",
              "      <td>138825</td>\n",
              "    </tr>\n",
              "    <tr>\n",
              "      <th>see</th>\n",
              "      <td>138529</td>\n",
              "    </tr>\n",
              "    <tr>\n",
              "      <th>oh</th>\n",
              "      <td>137345</td>\n",
              "    </tr>\n",
              "    <tr>\n",
              "      <th>never</th>\n",
              "      <td>136649</td>\n",
              "    </tr>\n",
              "    <tr>\n",
              "      <th>one</th>\n",
              "      <td>129103</td>\n",
              "    </tr>\n",
              "    <tr>\n",
              "      <th>back</th>\n",
              "      <td>118946</td>\n",
              "    </tr>\n",
              "    <tr>\n",
              "      <th>want</th>\n",
              "      <td>118579</td>\n",
              "    </tr>\n",
              "    <tr>\n",
              "      <th>make</th>\n",
              "      <td>111054</td>\n",
              "    </tr>\n",
              "    <tr>\n",
              "      <th>can't</th>\n",
              "      <td>108147</td>\n",
              "    </tr>\n",
              "    <tr>\n",
              "      <th>say</th>\n",
              "      <td>106163</td>\n",
              "    </tr>\n",
              "    <tr>\n",
              "      <th>ain't</th>\n",
              "      <td>104395</td>\n",
              "    </tr>\n",
              "    <tr>\n",
              "      <th>wanna</th>\n",
              "      <td>103195</td>\n",
              "    </tr>\n",
              "    <tr>\n",
              "      <th>i’m</th>\n",
              "      <td>100590</td>\n",
              "    </tr>\n",
              "    <tr>\n",
              "      <th>let</th>\n",
              "      <td>99333</td>\n",
              "    </tr>\n",
              "  </tbody>\n",
              "</table>\n",
              "</div>"
            ],
            "text/plain": [
              "       Frequency\n",
              "Word            \n",
              "know      271255\n",
              "got       222640\n",
              "get       198695\n",
              "yeah      196818\n",
              "love      195797\n",
              "go        154414\n",
              "time      138825\n",
              "see       138529\n",
              "oh        137345\n",
              "never     136649\n",
              "one       129103\n",
              "back      118946\n",
              "want      118579\n",
              "make      111054\n",
              "can't     108147\n",
              "say       106163\n",
              "ain't     104395\n",
              "wanna     103195\n",
              "i’m       100590\n",
              "let        99333"
            ]
          },
          "execution_count": 18,
          "metadata": {},
          "output_type": "execute_result"
        },
        {
          "data": {
            "image/png": "[encoded data removed]",
            "text/plain": [
              "<Figure size 640x480 with 1 Axes>"
            ]
          },
          "metadata": {},
          "output_type": "display_data"
        }
      ],
      "source": [
        "top_words = pd.DataFrame(Counter(\" \".join(words).split()).most_common(20),columns=['Word', 'Frequency']).set_index('Word')\n",
        "\n",
        "top_words.plot(kind='bar', subplots=True)\n",
        "top_words.head(20)"
      ]
    },
    {
      "cell_type": "markdown",
      "metadata": {
        "id": "DTo7kCHXIsvm"
      },
      "source": [
        "It's interesting to see how high love is at the top of the list of words. A lot of songs are about love, whether it be for a person or any other thing worth being passionate about. Action words like \"go\" and \"get\" and \"got\" are also very high on the list which makes sense especially since a lot of rap songs are about wealth and possession. I'm also surprised to see that the stop word \"I'm\" was so common that it even made a re-appearance with the incorrect symbol as the apostrophe. If there was any doubt these are community submitted lyrics, it's certainly been squashed."
      ]
    }
  ],
  "metadata": {
    "colab": {
      "name": "project",
      "provenance": []
    },
    "kernelspec": {
      "display_name": "PM4_ENV",
      "language": "python",
      "name": "python3"
    },
    "language_info": {
      "codemirror_mode": {
        "name": "ipython",
        "version": 3
      },
      "file_extension": ".py",
      "mimetype": "text/x-python",
      "name": "python",
      "nbconvert_exporter": "python",
      "pygments_lexer": "ipython3",
      "version": "3.8.18"
    }
  },
  "nbformat": 4,
  "nbformat_minor": 0
}
